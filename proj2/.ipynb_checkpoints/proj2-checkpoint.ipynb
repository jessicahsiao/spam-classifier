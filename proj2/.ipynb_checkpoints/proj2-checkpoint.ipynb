{
 "cells": [
  {
   "cell_type": "code",
   "execution_count": 1,
   "metadata": {},
   "outputs": [],
   "source": [
    "NAME = \"JESSICA HSIAO\"\n",
    "COLLABORATORS = \"\""
   ]
  },
  {
   "cell_type": "markdown",
   "metadata": {},
   "source": [
    "Before you turn this assignment in, make sure everything runs as expected. First, **restart the kernel** (in the menubar, select Kernel$\\rightarrow$Restart) and then **run all cells** (in the menubar, select Cell$\\rightarrow$Run All). Lastly, hit **Validate**.\n",
    "\n",
    "If you worked locally, and then uploaded your work to the hub, make sure to follow these steps:\n",
    "- open your uploaded notebook **on the hub**\n",
    "- hit the validate button right above this cell, from inside the notebook\n",
    "\n",
    "These  steps should solve any issue related to submitting the notebook on the hub.\n",
    "\n",
    "Make sure you fill in any place that says `YOUR CODE HERE` or \"YOUR ANSWER HERE\", as well as your name and collaborators below:"
   ]
  },
  {
   "cell_type": "markdown",
   "metadata": {},
   "source": [
    "---"
   ]
  },
  {
   "cell_type": "markdown",
   "metadata": {
    "deletable": false,
    "editable": false,
    "nbgrader": {
     "cell_type": "markdown",
     "checksum": "e9b95f0e3f952f2a69021b9e6257b0e0",
     "grade": false,
     "grade_id": "proj2",
     "locked": true,
     "schema_version": 2,
     "solution": false
    }
   },
   "source": [
    "# Project 2: Spam // Ham Prediction  \n",
    "\n",
    "## Due Date: 11:59pm Sunday, April 29\n",
    "\n",
    "In this project, you will use what you've learned in class to create a classifier that can distinguish spam (junk or commercial or bulk) emails from ham (non-spam) emails. In addition to providing some skeleton code to fill in, we will evaluate your work based on your model's accuracy and your written responses in this notebook.\n",
    "\n",
    "## Score breakdown\n",
    "\n",
    "Question | Points\n",
    "--- | ---\n",
    "Question 1 | 3\n",
    "Question 2 | 2\n",
    "Question 3a | 2\n",
    "Question 3b | 2\n",
    "Question 4 | 2\n",
    "Question 5 | 2\n",
    "Question 6 | 9\n",
    "Question 7 | 6\n",
    "Question 8 | 6\n",
    "Question 9 | 3\n",
    "Question 10 | 5\n",
    "Total | 42"
   ]
  },
  {
   "cell_type": "markdown",
   "metadata": {
    "deletable": false,
    "editable": false,
    "nbgrader": {
     "cell_type": "markdown",
     "checksum": "13d4b9efb57a66ecdde4f5c2e2bcc526",
     "grade": false,
     "grade_id": "p1",
     "locked": true,
     "schema_version": 2,
     "solution": false
    }
   },
   "source": [
    "# Part I - Initial Analysis"
   ]
  },
  {
   "cell_type": "code",
   "execution_count": 2,
   "metadata": {
    "deletable": false,
    "editable": false,
    "nbgrader": {
     "cell_type": "code",
     "checksum": "86334642abec944a9d6c8299e6ba5896",
     "grade": false,
     "grade_id": "imports",
     "locked": true,
     "schema_version": 2,
     "solution": false
    }
   },
   "outputs": [],
   "source": [
    "import numpy as np\n",
    "import pandas as pd\n",
    "\n",
    "import matplotlib.pyplot as plt\n",
    "%matplotlib inline\n",
    "\n",
    "import seaborn as sns\n",
    "sns.set(style = \"whitegrid\", \n",
    "        color_codes = True,\n",
    "        font_scale = 1.5)"
   ]
  },
  {
   "cell_type": "markdown",
   "metadata": {
    "deletable": false,
    "editable": false,
    "nbgrader": {
     "cell_type": "markdown",
     "checksum": "5d3fe1dd9f7bc02dfe273dc477925ec5",
     "grade": false,
     "grade_id": "loading",
     "locked": true,
     "schema_version": 2,
     "solution": false
    }
   },
   "source": [
    "### Loading in the Data\n",
    "\n",
    "The dataset consists of email messages and their labels (0 for ham, 1 for spam). Your labelled dataset contains 8348 labelled examples, and the evaluation set contains 1000 unlabelled examples.\n",
    "\n",
    "Run the following cells to load in the data into DataFrames.\n",
    "\n",
    "The `train` DataFrame contains labelled data that you will use to train your model. It contains three columns:\n",
    "\n",
    "1. `id`: An identifier for the training example.\n",
    "1. `subject`: The subject of the email\n",
    "1. `email`: The text of the email.\n",
    "1. `spam`: 1 if the email was spam, 0 if the email was ham (not spam).\n",
    "\n",
    "The `evaluation` DataFrame contains another set of 1000 unlabelled examples. You will predict labels for these examples and submit your predictions to Kaggle for evaluation."
   ]
  },
  {
   "cell_type": "code",
   "execution_count": 3,
   "metadata": {
    "deletable": false,
    "editable": false,
    "nbgrader": {
     "cell_type": "code",
     "checksum": "553fddfce24f4d89fd7ad907a7b22d28",
     "grade": false,
     "grade_id": "fetch-data",
     "locked": true,
     "schema_version": 2,
     "solution": false
    }
   },
   "outputs": [
    {
     "name": "stdout",
     "output_type": "stream",
     "text": [
      "Using version already downloaded: Wed Apr 18 17:40:04 2018\n",
      "MD5 hash of file: 0380c4cf72746622947b9ca5db9b8be8\n",
      "Using version already downloaded: Wed Apr 18 17:40:06 2018\n",
      "MD5 hash of file: a2e7abd8c7d9abf6e6fafc1d1f9ee6bf\n"
     ]
    },
    {
     "data": {
      "text/html": [
       "<div>\n",
       "<style scoped>\n",
       "    .dataframe tbody tr th:only-of-type {\n",
       "        vertical-align: middle;\n",
       "    }\n",
       "\n",
       "    .dataframe tbody tr th {\n",
       "        vertical-align: top;\n",
       "    }\n",
       "\n",
       "    .dataframe thead th {\n",
       "        text-align: right;\n",
       "    }\n",
       "</style>\n",
       "<table border=\"1\" class=\"dataframe\">\n",
       "  <thead>\n",
       "    <tr style=\"text-align: right;\">\n",
       "      <th></th>\n",
       "      <th>id</th>\n",
       "      <th>subject</th>\n",
       "      <th>email</th>\n",
       "      <th>spam</th>\n",
       "    </tr>\n",
       "  </thead>\n",
       "  <tbody>\n",
       "    <tr>\n",
       "      <th>0</th>\n",
       "      <td>0</td>\n",
       "      <td>Subject: A&amp;L Daily to be auctioned in bankrupt...</td>\n",
       "      <td>url: http://boingboing.net/#85534171\\n date: n...</td>\n",
       "      <td>0</td>\n",
       "    </tr>\n",
       "    <tr>\n",
       "      <th>1</th>\n",
       "      <td>1</td>\n",
       "      <td>Subject: Wired: \"Stronger ties between ISPs an...</td>\n",
       "      <td>url: http://scriptingnews.userland.com/backiss...</td>\n",
       "      <td>0</td>\n",
       "    </tr>\n",
       "    <tr>\n",
       "      <th>2</th>\n",
       "      <td>2</td>\n",
       "      <td>Subject: It's just too small                  ...</td>\n",
       "      <td>&lt;html&gt;\\n &lt;head&gt;\\n &lt;/head&gt;\\n &lt;body&gt;\\n &lt;font siz...</td>\n",
       "      <td>1</td>\n",
       "    </tr>\n",
       "    <tr>\n",
       "      <th>3</th>\n",
       "      <td>3</td>\n",
       "      <td>Subject: liberal defnitions\\n</td>\n",
       "      <td>depends on how much over spending vs. how much...</td>\n",
       "      <td>0</td>\n",
       "    </tr>\n",
       "    <tr>\n",
       "      <th>4</th>\n",
       "      <td>4</td>\n",
       "      <td>Subject: RE: [ILUG] Newbie seeks advice - Suse...</td>\n",
       "      <td>hehe sorry but if you hit caps lock twice the ...</td>\n",
       "      <td>0</td>\n",
       "    </tr>\n",
       "  </tbody>\n",
       "</table>\n",
       "</div>"
      ],
      "text/plain": [
       "   id                                            subject  \\\n",
       "0   0  Subject: A&L Daily to be auctioned in bankrupt...   \n",
       "1   1  Subject: Wired: \"Stronger ties between ISPs an...   \n",
       "2   2  Subject: It's just too small                  ...   \n",
       "3   3                      Subject: liberal defnitions\\n   \n",
       "4   4  Subject: RE: [ILUG] Newbie seeks advice - Suse...   \n",
       "\n",
       "                                               email  spam  \n",
       "0  url: http://boingboing.net/#85534171\\n date: n...     0  \n",
       "1  url: http://scriptingnews.userland.com/backiss...     0  \n",
       "2  <html>\\n <head>\\n </head>\\n <body>\\n <font siz...     1  \n",
       "3  depends on how much over spending vs. how much...     0  \n",
       "4  hehe sorry but if you hit caps lock twice the ...     0  "
      ]
     },
     "execution_count": 3,
     "metadata": {},
     "output_type": "execute_result"
    }
   ],
   "source": [
    "from utils import fetch_and_cache_gdrive\n",
    "fetch_and_cache_gdrive('1SCASpLZFKCp2zek-toR3xeKX3DZnBSyp', 'train.csv')\n",
    "fetch_and_cache_gdrive('1ZDFo9OTF96B5GP2Nzn8P8-AL7CTQXmC0', 'eval.csv')\n",
    "\n",
    "original_training_data = pd.read_csv('data/train.csv')\n",
    "evaluation = pd.read_csv('data/eval.csv')\n",
    "\n",
    "# Convert the emails to lower case as a first step to processing the text\n",
    "original_training_data['email'] = original_training_data['email'].str.lower()\n",
    "evaluation['email'] = evaluation['email'].str.lower()\n",
    "\n",
    "original_training_data.head()"
   ]
  },
  {
   "cell_type": "markdown",
   "metadata": {
    "deletable": false,
    "editable": false,
    "nbgrader": {
     "cell_type": "markdown",
     "checksum": "cd636166056f9007afa15fb14e1add52",
     "grade": false,
     "grade_id": "train-test",
     "locked": true,
     "schema_version": 2,
     "solution": false
    }
   },
   "source": [
    "## Train-Test Split\n",
    "\n",
    "The training data we downloaded is all the data we have available for both training models and **testing** the models that we train.  We therefore need to split the training data into separate training and test datsets.  You will need this **test data** to evaluate your model once you are finished training."
   ]
  },
  {
   "cell_type": "code",
   "execution_count": 4,
   "metadata": {
    "deletable": false,
    "editable": false,
    "nbgrader": {
     "cell_type": "code",
     "checksum": "2f91e8f002a63bc72069c5ac957ca5b4",
     "grade": false,
     "grade_id": "train-test-code",
     "locked": true,
     "schema_version": 2,
     "solution": false
    }
   },
   "outputs": [],
   "source": [
    "from sklearn.model_selection import train_test_split\n",
    "\n",
    "[train, test] = train_test_split(original_training_data, test_size=0.1, random_state=42)"
   ]
  },
  {
   "cell_type": "code",
   "execution_count": 5,
   "metadata": {},
   "outputs": [
    {
     "data": {
      "text/html": [
       "<div>\n",
       "<style scoped>\n",
       "    .dataframe tbody tr th:only-of-type {\n",
       "        vertical-align: middle;\n",
       "    }\n",
       "\n",
       "    .dataframe tbody tr th {\n",
       "        vertical-align: top;\n",
       "    }\n",
       "\n",
       "    .dataframe thead th {\n",
       "        text-align: right;\n",
       "    }\n",
       "</style>\n",
       "<table border=\"1\" class=\"dataframe\">\n",
       "  <thead>\n",
       "    <tr style=\"text-align: right;\">\n",
       "      <th></th>\n",
       "      <th>id</th>\n",
       "      <th>subject</th>\n",
       "      <th>email</th>\n",
       "      <th>spam</th>\n",
       "    </tr>\n",
       "  </thead>\n",
       "  <tbody>\n",
       "    <tr>\n",
       "      <th>7657</th>\n",
       "      <td>7657</td>\n",
       "      <td>Subject: Patch to enable/disable log\\n</td>\n",
       "      <td>while i was playing with the past issues, it a...</td>\n",
       "      <td>0</td>\n",
       "    </tr>\n",
       "    <tr>\n",
       "      <th>6911</th>\n",
       "      <td>6911</td>\n",
       "      <td>Subject: When an engineer flaps his wings\\n</td>\n",
       "      <td>url: http://diveintomark.org/archives/2002/10/...</td>\n",
       "      <td>0</td>\n",
       "    </tr>\n",
       "    <tr>\n",
       "      <th>6074</th>\n",
       "      <td>6074</td>\n",
       "      <td>Subject: Re: [Razor-users] razor plugins for m...</td>\n",
       "      <td>no, please post a link!\\n \\n fox\\n ----- origi...</td>\n",
       "      <td>0</td>\n",
       "    </tr>\n",
       "    <tr>\n",
       "      <th>4376</th>\n",
       "      <td>4376</td>\n",
       "      <td>Subject: NYTimes.com Article: Stop Those Press...</td>\n",
       "      <td>this article from nytimes.com \\n has been sent...</td>\n",
       "      <td>0</td>\n",
       "    </tr>\n",
       "    <tr>\n",
       "      <th>5766</th>\n",
       "      <td>5766</td>\n",
       "      <td>Subject: What's facing FBI's new CIO? (Tech Up...</td>\n",
       "      <td>&lt;html&gt;\\n &lt;head&gt;\\n &lt;title&gt;tech update today&lt;/ti...</td>\n",
       "      <td>0</td>\n",
       "    </tr>\n",
       "  </tbody>\n",
       "</table>\n",
       "</div>"
      ],
      "text/plain": [
       "        id                                            subject  \\\n",
       "7657  7657             Subject: Patch to enable/disable log\\n   \n",
       "6911  6911        Subject: When an engineer flaps his wings\\n   \n",
       "6074  6074  Subject: Re: [Razor-users] razor plugins for m...   \n",
       "4376  4376  Subject: NYTimes.com Article: Stop Those Press...   \n",
       "5766  5766  Subject: What's facing FBI's new CIO? (Tech Up...   \n",
       "\n",
       "                                                  email  spam  \n",
       "7657  while i was playing with the past issues, it a...     0  \n",
       "6911  url: http://diveintomark.org/archives/2002/10/...     0  \n",
       "6074  no, please post a link!\\n \\n fox\\n ----- origi...     0  \n",
       "4376  this article from nytimes.com \\n has been sent...     0  \n",
       "5766  <html>\\n <head>\\n <title>tech update today</ti...     0  "
      ]
     },
     "execution_count": 5,
     "metadata": {},
     "output_type": "execute_result"
    }
   ],
   "source": [
    "train.head()"
   ]
  },
  {
   "cell_type": "markdown",
   "metadata": {
    "deletable": false,
    "editable": false,
    "nbgrader": {
     "cell_type": "markdown",
     "checksum": "e7b9da3ae60578672c9a42db28823c0a",
     "grade": false,
     "grade_id": "q1",
     "locked": true,
     "schema_version": 2,
     "solution": false
    }
   },
   "source": [
    "# Question 1\n",
    "\n",
    "In the cell below, print the text of the first ham and the first spam email in the training set. Then, discuss one thing you notice that is different between the two that might relate to the identification of spam."
   ]
  },
  {
   "cell_type": "code",
   "execution_count": 6,
   "metadata": {
    "deletable": false,
    "nbgrader": {
     "cell_type": "code",
     "checksum": "ff10a1144d9c5bff85dc2274907ce32c",
     "grade": false,
     "grade_id": "q1-answer",
     "locked": false,
     "schema_version": 2,
     "solution": true
    }
   },
   "outputs": [
    {
     "name": "stdout",
     "output_type": "stream",
     "text": [
      "while i was playing with the past issues, it annoyed me that there was\n",
      " no easy way to make the log stop growing (i don't mean to truncate it,\n",
      " i mean to just freeze it for a while).\n",
      " \n",
      " the following patch adds a new button to the log window, which allows\n",
      " the log to be switched on/off (the button says \"disable\" when the\n",
      " log is enabled, and the button disables it, and \"enable\" when the log\n",
      " is frozen, and the button enables it again).\n",
      " \n",
      " kre\n",
      " \n",
      " --- main.tcl\twed aug 21 15:01:48 2002\n",
      " +++ /usr/local/lib/exmh-2.5/main.tcl\twed aug 28 17:36:59 2002\n",
      " @@ -385,6 +385,9 @@\n",
      "  \texmhlogcreate\n",
      "  \twm withdraw $exmh(logtop)\n",
      "      }\n",
      " +    if {! $exmh(logwrite)} {\n",
      " +\treturn\n",
      " +    }\n",
      "      if [info exists exmh(log)] {\n",
      "  \tcatch {\n",
      "  #\t    $exmh(log) insert end \" [bw_delta] \"\n",
      " @@ -407,6 +410,9 @@\n",
      "      set exmh(logwindow) 1\n",
      "      exwin_toplevel .log \"exmh log\" log\n",
      "      set exmh(logtop) .log\n",
      " +    set exmh(logdisablebut) \\\n",
      " +\t[widget_addbut $exmh(logtop).but swap \"disable\" exmhlogtoggle]\n",
      " +    set exmh(logwrite) 1\n",
      "      widget_addbut $exmh(logtop).but trunc \"truncate\" exmhlogtrunc\n",
      "      widget_addbut $exmh(logtop).but save \"save to file\" exmhlogsave\n",
      "      set exmh(logyview) 1\n",
      " @@ -457,6 +463,12 @@\n",
      "      } msg] {\n",
      "  \texmh_status \"cannot save log: $msg\" error\n",
      "      }\n",
      " +}\n",
      " +proc exmhlogtoggle {} {\n",
      " +    global exmh\n",
      " +\n",
      " +    set exmh(logwrite) [expr ! $exmh(logwrite)]\n",
      " +    $exmh(logdisablebut) configure -text [lindex {\"enable \" disable} $exmh(logwrite)]\n",
      "  }\n",
      "  #### misc\n",
      "  \n",
      " \n",
      " \n",
      " \n",
      " \n",
      " _______________________________________________\n",
      " exmh-workers mailing list\n",
      " exmh-workers@redhat.com\n",
      " https://listman.redhat.com/mailman/listinfo/exmh-workers\n",
      " \n",
      "\n",
      "!!!\n",
      "--===_secatt_000_1fuklemuttfusq\n",
      " content-type: text/plain; charset=\"us-ascii\"\n",
      " content-transfer-encoding: quoted-printable\n",
      " \n",
      " aluko martin\n",
      " 23 victoriagarden city=2c\n",
      " lagos-nigeria=2e\n",
      " \n",
      " attn=2e\n",
      " \n",
      " \n",
      " we have an immediate business proposal that involves us$34=2c700=2c000\n",
      " which we will like to invest under your custody=2e please=2c do not\n",
      " hesitate\n",
      " to send me an email=2c so as to discuss with you the details of the\n",
      " transaction=2fthe\n",
      " terms and condition of sharing regarding the business=2e\n",
      " your urgent response will be highly appreciated and will swiftly\n",
      " bring us\n",
      " to the commencement of the transaction=2e we hope to conclude this\n",
      " transaction\n",
      " within 10-12 working days=2e do not forget to contact me on receipt of\n",
      " this\n",
      " mail=2e and please ensure to maintain absolute confidentiality with\n",
      " regard to\n",
      " this\n",
      " pending transaction=2e i urgently await your response=2e\n",
      " \n",
      " best regards=2c\n",
      " \n",
      " aluko martin=2e\n",
      " \n",
      " -- \n",
      " \n",
      " \n",
      " --===_secatt_000_1fuklemuttfusq\n",
      " content-type: application/octet-stream; name=\"mailxs_list.lst\"\n",
      " content-transfer-encoding: base64\n",
      " content-disposition: attachment; filename=\"mailxs_list.lst\"\n",
      " \n",
      " \n",
      " --===_secatt_000_1fuklemuttfusq\n",
      " \n",
      "\n"
     ]
    }
   ],
   "source": [
    "# Print the text of the first ham and the first spam emails. Then, fill in your response in the q01 variable:\n",
    "first_ham = train[train['spam'] == 0]['email'].iloc[0]\n",
    "first_spam = train[train['spam'] == 1]['email'].iloc[0]\n",
    "\n",
    "print(first_ham)\n",
    "print('!!!')\n",
    "print(first_spam)\n",
    "\n",
    "# YOUR CODE HERE\n",
    "#raise NotImplementedError()"
   ]
  },
  {
   "cell_type": "code",
   "execution_count": 479,
   "metadata": {
    "deletable": false,
    "editable": false,
    "nbgrader": {
     "cell_type": "code",
     "checksum": "115ba1cae1be0d4c7a5e9b91526fcb19",
     "grade": true,
     "grade_id": "q1-tests",
     "locked": true,
     "points": 1,
     "schema_version": 2,
     "solution": false
    }
   },
   "outputs": [],
   "source": [
    "# This is a cell with just a comment but don't delete me if you want to get credit."
   ]
  },
  {
   "cell_type": "markdown",
   "metadata": {
    "deletable": false,
    "nbgrader": {
     "cell_type": "markdown",
     "checksum": "cc6c8ddb4b03754a64382c725dafc5b0",
     "grade": true,
     "grade_id": "q1-written",
     "locked": false,
     "points": 2,
     "schema_version": 2,
     "solution": true
    },
    "tags": [
     "solution",
     "written",
     "q01"
    ]
   },
   "source": [
    "In the spam email, punctuation seems to be encoded differently, rather than just being directly displayed. For instance, the email mentions a monetary figure of $37,700,000, but the commas are encoded as =2c. Furthermore, the spam email is very vague and doesn't mention any specific or identifiable details, unlike the ham email, which discusses a particular problem the sender faced with his/her log window that would only make sense if both the sender and recipient knew the context of the issue."
   ]
  },
  {
   "cell_type": "markdown",
   "metadata": {
    "deletable": false,
    "editable": false,
    "nbgrader": {
     "cell_type": "markdown",
     "checksum": "78b2a5de9976f0492e4325d88e131a47",
     "grade": false,
     "grade_id": "feat-eng",
     "locked": true,
     "schema_version": 2,
     "solution": false
    }
   },
   "source": [
    "# Basic Feature Engineering\n",
    "\n",
    "We would like to take the text of an email and predict whether the text is ham or spam. This is a *classification* problem, so we can use logistic regression to make a classifier. Recall that to train an logistic regression model we need a numeric feature matrix $\\Phi$ (pronounced phi as in wifi) and corresponding binary labels $Y$.  Unfortunately, our data are text, not numbers. To address this, we can create numeric features derived from the email text and use those features for logistic regression.\n",
    "\n",
    "Each row of $\\Phi$ is derived from one email example. Each column of $\\Phi$  is one feature. We'll guide you through creating a simple feature, and you'll create more interesting ones when you are trying to increase your accuracy."
   ]
  },
  {
   "cell_type": "markdown",
   "metadata": {
    "deletable": false,
    "editable": false,
    "nbgrader": {
     "cell_type": "markdown",
     "checksum": "4a6a1160d34bedff1e1a0859a58bf70e",
     "grade": false,
     "grade_id": "q2",
     "locked": true,
     "schema_version": 2,
     "solution": false
    }
   },
   "source": [
    "# Question 2\n",
    "\n",
    "Create a function called `words_in_texts` that takes in a list of `words` and a pandas Series of email `texts`. It should output a 2-dimensional NumPy array containing one row for each email text. The row should contain either a 0 or a 1 for each word in the list: 0 if the word doesn't appear in the text and 1 if the word does. For example:\n",
    "\n",
    "```python\n",
    ">>> words_in_texts(['hello', 'bye', 'world'], \n",
    "                   pd.Series(['hello', 'hello world hello']))\n",
    "\n",
    "array([[1, 0, 0],\n",
    "       [1, 0, 1]])\n",
    "```"
   ]
  },
  {
   "cell_type": "code",
   "execution_count": 7,
   "metadata": {
    "deletable": false,
    "nbgrader": {
     "cell_type": "code",
     "checksum": "296207c542908dd11c481c4f56585743",
     "grade": false,
     "grade_id": "q2-answer",
     "locked": false,
     "schema_version": 2,
     "solution": true
    },
    "tags": [
     "student"
    ]
   },
   "outputs": [],
   "source": [
    "def words_in_texts(words, texts):\n",
    "    '''\n",
    "    Args:\n",
    "        words (list-like): words to find\n",
    "        texts (Series): strings to search in\n",
    "    \n",
    "    Returns:\n",
    "        NumPy array of 0s and 1s with shape (n, p) where n is the\n",
    "        number of texts and p is the number of words.\n",
    "    '''\n",
    "    indicator_array = np.array([texts.str.contains(word) * 1 for word in words]).transpose()\n",
    "    #print(indicator_array)\n",
    "    # YOUR CODE HERE\n",
    "    #raise NotImplementedError()\n",
    "    return indicator_array"
   ]
  },
  {
   "cell_type": "code",
   "execution_count": 8,
   "metadata": {
    "deletable": false,
    "editable": false,
    "nbgrader": {
     "cell_type": "code",
     "checksum": "6b8eb808ad9b99843c8cd3ad5d20b736",
     "grade": true,
     "grade_id": "q2-tests",
     "locked": true,
     "points": 2,
     "schema_version": 2,
     "solution": false
    },
    "tags": [
     "solution"
    ]
   },
   "outputs": [],
   "source": [
    "# If this doesn't error, your function outputs the correct output for this example\n",
    "assert np.allclose(words_in_texts(['hello', 'bye', 'world'], \n",
    "                                  pd.Series(['hello', 'hello world hello'])),\n",
    "                   np.array([[1, 0, 0], \n",
    "                             [1, 0, 1]]))"
   ]
  },
  {
   "cell_type": "markdown",
   "metadata": {
    "deletable": false,
    "editable": false,
    "nbgrader": {
     "cell_type": "markdown",
     "checksum": "2bacca07aa9b367ec84957d0beb41886",
     "grade": false,
     "grade_id": "eda",
     "locked": true,
     "schema_version": 2,
     "solution": false
    }
   },
   "source": [
    "# Basic EDA\n",
    "\n",
    "Now we need to identify some features that allow us to tell spam and ham emails apart. One idea is to compare the distribution of a single feature in spam emails to the distribution of the same feature in ham emails. If the feature is itself a binary indicator, such as whether a certain word occurs in the text, this amounts to comparing the proportion of spam emails with the word to the proportion of ham emails with the word.\n"
   ]
  },
  {
   "cell_type": "markdown",
   "metadata": {
    "deletable": false,
    "editable": false,
    "nbgrader": {
     "cell_type": "markdown",
     "checksum": "b13eddc109fc8ca94589381ffa188ae3",
     "grade": false,
     "grade_id": "q3a",
     "locked": true,
     "schema_version": 2,
     "solution": false
    }
   },
   "source": [
    "# Question 3a\n",
    "\n",
    "Create a bar chart comparing the proportion of spam and ham emails containing certain words. It should look like the following plot (which was created using `sns.barplot`), but you should choose your own words as candidate features.\n",
    "\n",
    "![training conditional proportions](training_conditional_proportions.png \"Class Conditional Proportions\")\n"
   ]
  },
  {
   "cell_type": "code",
   "execution_count": 9,
   "metadata": {},
   "outputs": [
    {
     "data": {
      "text/html": [
       "<div>\n",
       "<style scoped>\n",
       "    .dataframe tbody tr th:only-of-type {\n",
       "        vertical-align: middle;\n",
       "    }\n",
       "\n",
       "    .dataframe tbody tr th {\n",
       "        vertical-align: top;\n",
       "    }\n",
       "\n",
       "    .dataframe thead th {\n",
       "        text-align: right;\n",
       "    }\n",
       "</style>\n",
       "<table border=\"1\" class=\"dataframe\">\n",
       "  <thead>\n",
       "    <tr style=\"text-align: right;\">\n",
       "      <th></th>\n",
       "      <th>id</th>\n",
       "      <th>subject</th>\n",
       "      <th>email</th>\n",
       "      <th>spam</th>\n",
       "    </tr>\n",
       "  </thead>\n",
       "  <tbody>\n",
       "    <tr>\n",
       "      <th>7657</th>\n",
       "      <td>7657</td>\n",
       "      <td>Subject: Patch to enable/disable log\\n</td>\n",
       "      <td>while i was playing with the past issues, it a...</td>\n",
       "      <td>0</td>\n",
       "    </tr>\n",
       "    <tr>\n",
       "      <th>6911</th>\n",
       "      <td>6911</td>\n",
       "      <td>Subject: When an engineer flaps his wings\\n</td>\n",
       "      <td>url: http://diveintomark.org/archives/2002/10/...</td>\n",
       "      <td>0</td>\n",
       "    </tr>\n",
       "    <tr>\n",
       "      <th>6074</th>\n",
       "      <td>6074</td>\n",
       "      <td>Subject: Re: [Razor-users] razor plugins for m...</td>\n",
       "      <td>no, please post a link!\\n \\n fox\\n ----- origi...</td>\n",
       "      <td>0</td>\n",
       "    </tr>\n",
       "    <tr>\n",
       "      <th>4376</th>\n",
       "      <td>4376</td>\n",
       "      <td>Subject: NYTimes.com Article: Stop Those Press...</td>\n",
       "      <td>this article from nytimes.com \\n has been sent...</td>\n",
       "      <td>0</td>\n",
       "    </tr>\n",
       "    <tr>\n",
       "      <th>5766</th>\n",
       "      <td>5766</td>\n",
       "      <td>Subject: What's facing FBI's new CIO? (Tech Up...</td>\n",
       "      <td>&lt;html&gt;\\n &lt;head&gt;\\n &lt;title&gt;tech update today&lt;/ti...</td>\n",
       "      <td>0</td>\n",
       "    </tr>\n",
       "  </tbody>\n",
       "</table>\n",
       "</div>"
      ],
      "text/plain": [
       "        id                                            subject  \\\n",
       "7657  7657             Subject: Patch to enable/disable log\\n   \n",
       "6911  6911        Subject: When an engineer flaps his wings\\n   \n",
       "6074  6074  Subject: Re: [Razor-users] razor plugins for m...   \n",
       "4376  4376  Subject: NYTimes.com Article: Stop Those Press...   \n",
       "5766  5766  Subject: What's facing FBI's new CIO? (Tech Up...   \n",
       "\n",
       "                                                  email  spam  \n",
       "7657  while i was playing with the past issues, it a...     0  \n",
       "6911  url: http://diveintomark.org/archives/2002/10/...     0  \n",
       "6074  no, please post a link!\\n \\n fox\\n ----- origi...     0  \n",
       "4376  this article from nytimes.com \\n has been sent...     0  \n",
       "5766  <html>\\n <head>\\n <title>tech update today</ti...     0  "
      ]
     },
     "execution_count": 9,
     "metadata": {},
     "output_type": "execute_result"
    }
   ],
   "source": [
    "train.head()"
   ]
  },
  {
   "cell_type": "code",
   "execution_count": 10,
   "metadata": {
    "deletable": false,
    "nbgrader": {
     "cell_type": "code",
     "checksum": "c64ceb5b31e1282f8c118e345108f1f2",
     "grade": true,
     "grade_id": "q3a-answer",
     "locked": false,
     "points": 2,
     "schema_version": 2,
     "solution": true
    }
   },
   "outputs": [
    {
     "data": {
      "text/plain": [
       "<matplotlib.legend.Legend at 0x7f0ca991df98>"
      ]
     },
     "execution_count": 10,
     "metadata": {},
     "output_type": "execute_result"
    },
    {
     "data": {
      "image/png": "[encoded data removed]",
      "text/plain": [
       "<matplotlib.figure.Figure at 0x7f0ca991dfd0>"
      ]
     },
     "metadata": {},
     "output_type": "display_data"
    }
   ],
   "source": [
    "# YOUR CODE HERE\n",
    "temp = train.reset_index()\n",
    "words = ['details', 'business', 'contact', 'money', 'invest', 'please']\n",
    "df = pd.DataFrame(words_in_texts(words, temp['email']), columns=words)\n",
    "df['spam'] = temp['spam']\n",
    "df = df.melt(id_vars = 'spam')\n",
    "\n",
    "sns.barplot(x = df['variable'], y = df['value'], hue = df['spam'].replace([0, 1], ['Ham', 'Spam']),  ci=None)\n",
    "plt.ylim(0, 1)\n",
    "plt.ylabel('Proportion of Emails')\n",
    "plt.legend()\n",
    "#raise NotImplementedError()"
   ]
  },
  {
   "cell_type": "markdown",
   "metadata": {
    "deletable": false,
    "editable": false,
    "nbgrader": {
     "cell_type": "markdown",
     "checksum": "cacc657b9f84fe89c425797255849f69",
     "grade": false,
     "grade_id": "q3b",
     "locked": true,
     "schema_version": 2,
     "solution": false
    }
   },
   "source": [
    "# Question 3b\n",
    "\n",
    "When the feature is binary, it makes sense (as in the previous question) to compare the proportion of 1s in the two classes of email. Otherwise, if the feature can take on many values, it makes sense to compare the distribution under spam to the distribution under ham. Create a *class conditional density plot* like the one below (which was created using `sns.distplot`), comparing the distribution of a feature among all spam emails to the distribution of the same feature among all ham emails. **You may use the Fraction of Uppercase Letters or create your own feature.**\n",
    "\n",
    "![training conditional densities](training_conditional_densities2.png \"Class Conditional Densities\")"
   ]
  },
  {
   "cell_type": "code",
   "execution_count": 20,
   "metadata": {
    "deletable": false,
    "nbgrader": {
     "cell_type": "code",
     "checksum": "60246643e0caaa562f6a6ac6814ae0c0",
     "grade": true,
     "grade_id": "q3b-answer",
     "locked": false,
     "points": 2,
     "schema_version": 2,
     "solution": true
    }
   },
   "outputs": [
    {
     "name": "stderr",
     "output_type": "stream",
     "text": [
      "/srv/conda/envs/data100/lib/python3.6/site-packages/ipykernel_launcher.py:4: SettingWithCopyWarning: \n",
      "A value is trying to be set on a copy of a slice from a DataFrame.\n",
      "Try using .loc[row_indexer,col_indexer] = value instead\n",
      "\n",
      "See the caveats in the documentation: http://pandas.pydata.org/pandas-docs/stable/indexing.html#indexing-view-versus-copy\n",
      "  after removing the cwd from sys.path.\n"
     ]
    },
    {
     "data": {
      "text/plain": [
       "<matplotlib.legend.Legend at 0x7f0ca8ca55f8>"
      ]
     },
     "execution_count": 20,
     "metadata": {},
     "output_type": "execute_result"
    },
    {
     "data": {
      "image/png": "[encoded data removed]",
      "text/plain": [
       "<matplotlib.figure.Figure at 0x7f0ca8cdc6d8>"
      ]
     },
     "metadata": {},
     "output_type": "display_data"
    }
   ],
   "source": [
    "# YOUR CODE HERE\n",
    "temp = pd.read_csv('data/train.csv')\n",
    "[train_temp, test_temp] = train_test_split(temp, test_size=0.1, random_state=42)\n",
    "train_temp['percentage'] = train_temp['email'].str.findall('[A-Z]').str.len() / train_temp['email'].str.findall('[a-zA-Z]').str.len()\n",
    "sns.distplot(train_temp[train_temp['spam']==0]['percentage'], label='Ham')\n",
    "sns.distplot(train_temp[train_temp['spam']==1]['percentage'], label='Spam')\n",
    "plt.xlabel('Fraction of Uppercase Letters in Email')\n",
    "plt.legend()\n",
    "#raise NotImplementedError()"
   ]
  },
  {
   "cell_type": "markdown",
   "metadata": {
    "deletable": false,
    "editable": false,
    "nbgrader": {
     "cell_type": "markdown",
     "checksum": "0d13d7ef0cdd07a7ad8d0a49cdddba9b",
     "grade": false,
     "grade_id": "classification",
     "locked": true,
     "schema_version": 2,
     "solution": false
    }
   },
   "source": [
    "# Basic Classification\n",
    "\n",
    "Notice that the output of `words_in_texts(words, train['email'])` is a numeric matrix containing features for each email. This means we can use it directly to train a classifier!"
   ]
  },
  {
   "cell_type": "markdown",
   "metadata": {
    "deletable": false,
    "editable": false,
    "nbgrader": {
     "cell_type": "markdown",
     "checksum": "a704638a2aa116d175cec5d54011390e",
     "grade": false,
     "grade_id": "q4",
     "locked": true,
     "schema_version": 2,
     "solution": false
    }
   },
   "source": [
    "# Question 4\n",
    "\n",
    "We've given you 5 words that might be useful as features to distinguish spam/ham emails. Use these words as well as the `train` DataFrame to create two NumPy arrays: `Phi_train` and `Y_train`.\n",
    "\n",
    "`Phi_train` should be a matrix of 0s and 1s created by using your `words_in_texts` function on all the emails in the training set.\n",
    "\n",
    "`Y_train` should be a vector of the correct labels for each email in the training set."
   ]
  },
  {
   "cell_type": "code",
   "execution_count": 21,
   "metadata": {
    "deletable": false,
    "nbgrader": {
     "cell_type": "code",
     "checksum": "8b93048015e15c7af26cd4a47e611109",
     "grade": false,
     "grade_id": "q4-answer",
     "locked": false,
     "schema_version": 2,
     "solution": true
    },
    "tags": [
     "student"
    ]
   },
   "outputs": [
    {
     "data": {
      "text/plain": [
       "(array([[0, 0, 0, 0, 0],\n",
       "        [0, 0, 0, 0, 0],\n",
       "        [0, 0, 0, 0, 0],\n",
       "        [0, 0, 0, 0, 0],\n",
       "        [0, 0, 0, 1, 0]]), 7657    0\n",
       " 6911    0\n",
       " 6074    0\n",
       " 4376    0\n",
       " 5766    0\n",
       " Name: spam, dtype: int64)"
      ]
     },
     "execution_count": 21,
     "metadata": {},
     "output_type": "execute_result"
    }
   ],
   "source": [
    "some_words = ['drug', 'bank', 'prescription', 'memo', 'private']\n",
    "\n",
    "Phi_train = words_in_texts(some_words, train['email'])\n",
    "Y_train = train['spam']\n",
    "\n",
    "# YOUR CODE HERE\n",
    "#raise NotImplementedError()\n",
    "\n",
    "Phi_train[:5], Y_train[:5]"
   ]
  },
  {
   "cell_type": "code",
   "execution_count": 22,
   "metadata": {
    "deletable": false,
    "editable": false,
    "nbgrader": {
     "cell_type": "code",
     "checksum": "e379ae3ce1967f869f7d7e731ae0f75a",
     "grade": true,
     "grade_id": "q4-tests",
     "locked": true,
     "points": 2,
     "schema_version": 2,
     "solution": false
    }
   },
   "outputs": [],
   "source": [
    "assert np.all(np.unique(Phi_train) == np.array([0, 1]))\n",
    "assert np.all(np.unique(Y_train) == np.array([0, 1]))\n",
    "assert Phi_train.shape[0] == Y_train.shape[0]\n",
    "assert Phi_train.shape[1] == len(some_words)"
   ]
  },
  {
   "cell_type": "markdown",
   "metadata": {
    "deletable": false,
    "editable": false,
    "nbgrader": {
     "cell_type": "markdown",
     "checksum": "2d67277515ec86e13df560be7fb273f4",
     "grade": false,
     "grade_id": "q5",
     "locked": true,
     "schema_version": 2,
     "solution": false
    }
   },
   "source": [
    "# Question 5\n",
    "\n",
    "Now we have matrices we can give to scikit-learn! Using the [`LogisticRegression`](http://scikit-learn.org/stable/modules/generated/sklearn.linear_model.LogisticRegression.html) classifier, train a logistic regression model using `Phi_train` and `Y_train`. Then, output the accuracy of the model (on the training data) in the cell below. You should get an accuracy of around 0.75."
   ]
  },
  {
   "cell_type": "code",
   "execution_count": 23,
   "metadata": {
    "deletable": false,
    "nbgrader": {
     "cell_type": "code",
     "checksum": "a45837a9efac1b9ab3824f860e9ddc1a",
     "grade": false,
     "grade_id": "q5-answer",
     "locked": false,
     "schema_version": 2,
     "solution": true
    },
    "tags": [
     "student"
    ]
   },
   "outputs": [
    {
     "data": {
      "text/plain": [
       "0.75762012511646482"
      ]
     },
     "execution_count": 23,
     "metadata": {},
     "output_type": "execute_result"
    }
   ],
   "source": [
    "from sklearn.linear_model import LogisticRegression as lm\n",
    "model = lm()\n",
    "model.fit(Phi_train, Y_train)\n",
    "#print(model.predict(Phi_train))\n",
    "predict = model.predict(Phi_train)\n",
    "training_accuracy = model.score(Phi_train, Y_train)\n",
    "\n",
    "training_accuracy\n",
    "# YOUR CODE HERE\n",
    "#raise NotImplementedError()"
   ]
  },
  {
   "cell_type": "code",
   "execution_count": 24,
   "metadata": {
    "deletable": false,
    "editable": false,
    "nbgrader": {
     "cell_type": "code",
     "checksum": "1133eaddd64442a3139615c57864c60e",
     "grade": true,
     "grade_id": "q5-tests",
     "locked": true,
     "points": 2,
     "schema_version": 2,
     "solution": false
    },
    "tags": [
     "solution"
    ]
   },
   "outputs": [],
   "source": [
    "assert training_accuracy > 0.72"
   ]
  },
  {
   "cell_type": "markdown",
   "metadata": {
    "deletable": false,
    "editable": false,
    "nbgrader": {
     "cell_type": "markdown",
     "checksum": "2ccbf7ec8e32a2963fac3ca5624407d0",
     "grade": false,
     "grade_id": "q6",
     "locked": true,
     "schema_version": 2,
     "solution": false
    }
   },
   "source": [
    "# Question 6\n",
    "\n",
    "That doesn't seem too shabby! But the classifier you made above isn't as good as this might lead us to believe. First, we are evaluating on the training set, which may lead to a misleading accuracy measure, especially if we used the training set to identify discriminative features. In future parts of this analysis, it will be safer to hold out some of our data for model validation and comparison.\n",
    "\n",
    "Presumably, our classifier will be used for **filtering**, i.e. preventing messages labelled `spam` from reaching someone's inbox. Since we are trying  There are two kinds of errors we can make:\n",
    "- False positive (FP): a ham email gets flagged as spam and filtered out of the inbox.\n",
    "- False negative (FN): a spam email gets mislabelled as ham and ends up in the inbox.\n",
    "\n",
    "These definitions depend both on the true labels and the predicted labels. False positives and false negatives may be of differing importance, leading us to consider more ways of evaluating a classifier, in addition to overall accuracy:\n",
    "\n",
    "**Precision** measures the proportion $\\frac{\\text{TP}}{\\text{TP} + \\text{FP}}$ of emails flagged as spam that are actually spam.\n",
    "\n",
    "**Recall** measures the proportion $\\frac{\\text{TP}}{\\text{TP} + \\text{FN}}$ of spam emails that were correctly flagged as spam. \n",
    "\n",
    "**False-alarm rate** measures the proportion $\\frac{\\text{FP}}{\\text{FP} + \\text{TN}}$ of ham emails that were incorrectly flagged as spam. \n",
    "\n",
    "The following image might help:\n",
    "\n",
    "<img src=\"https://upload.wikimedia.org/wikipedia/commons/thumb/2/26/Precisionrecall.svg/700px-Precisionrecall.svg.png\" width=\"500px\">\n",
    "\n",
    "Note that a true positive (TP) is a spam email that is classified as spam, and a true negative (TN) is a ham email that is classified as ham. Answer the following questions in the cells below:\n",
    "\n",
    "- (a) Suppose we have a classifier that just predicts 0 (ham) for every email. How many false positives are there? How many false negatives are there? Provide specific numbers using the training data from Question 4.\n",
    "- (b) Suppose we have a classifier that just predicts 0 (ham) for every email. What is its accuracy on the training set? What is its recall on the training set?\n",
    "- (c) What are the precision, recall, and false-alarm rate of the logistic regression classifier in Question 5? Are there more false positives or false negatives? \n",
    "- (d) Our logistic regression classifier got 75.6% prediction accuracy (number of correct predictions / total). How does this compare with predicting 0 for every email?\n",
    "- (e) Given the word features we gave you above, name one reason this classifier is performing poorly.\n",
    "- (f) Which of these two classifiers would you prefer for a spam filter and why? (N.B. there is no \"right answer\" here but be thoughtful in your reasoning)."
   ]
  },
  {
   "cell_type": "code",
   "execution_count": 25,
   "metadata": {
    "deletable": false,
    "nbgrader": {
     "cell_type": "code",
     "checksum": "fb6be2a577f65651b583021d052505f3",
     "grade": false,
     "grade_id": "q6a-answer",
     "locked": false,
     "schema_version": 2,
     "solution": true
    }
   },
   "outputs": [
    {
     "data": {
      "text/plain": [
       "1918"
      ]
     },
     "execution_count": 25,
     "metadata": {},
     "output_type": "execute_result"
    }
   ],
   "source": [
    "# provide number of FP and FN, respectively,\n",
    "# for a classifier that always predicts 0 (never predicts positive...)\n",
    "zero_predictor_fp = 0\n",
    "zero_predictor_fn = len([i for i in Y_train if i == 1])\n",
    "\n",
    "zero_predictor_fn\n",
    "# YOUR CODE HERE\n",
    "#raise NotImplementedError()"
   ]
  },
  {
   "cell_type": "code",
   "execution_count": 26,
   "metadata": {
    "deletable": false,
    "editable": false,
    "nbgrader": {
     "cell_type": "code",
     "checksum": "4170e6f271d97eab6ab77523d0c9689c",
     "grade": true,
     "grade_id": "q6a-tests",
     "locked": true,
     "points": 2,
     "schema_version": 2,
     "solution": false
    }
   },
   "outputs": [],
   "source": [
    "# This is a cell with just a comment but don't delete me if you want to get credit."
   ]
  },
  {
   "cell_type": "code",
   "execution_count": 27,
   "metadata": {
    "deletable": false,
    "nbgrader": {
     "cell_type": "code",
     "checksum": "551cfb296a0d066ef7f88a4450cd56f2",
     "grade": false,
     "grade_id": "q6b-answer",
     "locked": false,
     "schema_version": 2,
     "solution": true
    }
   },
   "outputs": [
    {
     "data": {
      "text/plain": [
       "0.7447091707706642"
      ]
     },
     "execution_count": 27,
     "metadata": {},
     "output_type": "execute_result"
    }
   ],
   "source": [
    "# provide training accuracy & recall, respectively,\n",
    "# for a classifier that always predicts 0\n",
    "zero_predictor_acc = len([i for i in Y_train if i == 0])/len(Y_train)\n",
    "zero_predictor_recall = 0\n",
    "\n",
    "zero_predictor_acc\n",
    "#len(train)\n",
    "# YOUR CODE HERE\n",
    "#raise NotImplementedError()"
   ]
  },
  {
   "cell_type": "code",
   "execution_count": 28,
   "metadata": {
    "deletable": false,
    "editable": false,
    "nbgrader": {
     "cell_type": "code",
     "checksum": "2da0a2fd20e7773dc36190301cee53f5",
     "grade": true,
     "grade_id": "q6b-tests",
     "locked": true,
     "points": 2,
     "schema_version": 2,
     "solution": false
    }
   },
   "outputs": [],
   "source": [
    "# This is a cell with just a comment but don't delete me if you want to get credit."
   ]
  },
  {
   "cell_type": "code",
   "execution_count": 29,
   "metadata": {
    "deletable": false,
    "nbgrader": {
     "cell_type": "code",
     "checksum": "d3775f0397ec6a892683277ff9bb041d",
     "grade": false,
     "grade_id": "q6c-answer",
     "locked": false,
     "schema_version": 2,
     "solution": true
    }
   },
   "outputs": [
    {
     "name": "stdout",
     "output_type": "stream",
     "text": [
      "0.6422287390029325\n",
      "0.11418143899895725\n",
      "0.021805183199285077\n"
     ]
    }
   ],
   "source": [
    "# provide training accuracy & recall, respectively,\n",
    "# for logistic regression classifier from question 5\n",
    "predict = model.predict(Phi_train)\n",
    "actual = np.array(Y_train)\n",
    "true_pos = len([i for i in range(len(predict)) if predict[i] == 1 and actual[i] == 1])\n",
    "false_pos = len([i for i in range(len(predict)) if predict[i] == 1 and actual[i] == 0])\n",
    "false_neg = len([i for i in range(len(predict)) if predict[i] == 0 and actual[i] == 1])\n",
    "true_neg = len([i for i in range(len(predict)) if predict[i] == 0 and actual[i] == 0])\n",
    "\n",
    "logistic_predictor_precision = true_pos/(true_pos + false_pos)\n",
    "logistic_predictor_recall = true_pos/(true_pos + false_neg)\n",
    "logistic_predictor_far = false_pos / (false_pos + true_neg)\n",
    "\n",
    "print(logistic_predictor_precision)\n",
    "print(logistic_predictor_recall)\n",
    "print(logistic_predictor_far)\n",
    "# YOUR CODE HERE\n",
    "#raise NotImplementedError()"
   ]
  },
  {
   "cell_type": "code",
   "execution_count": 30,
   "metadata": {},
   "outputs": [
    {
     "name": "stdout",
     "output_type": "stream",
     "text": [
      "122\n",
      "1699\n"
     ]
    }
   ],
   "source": [
    "print(false_pos)\n",
    "print(false_neg)"
   ]
  },
  {
   "cell_type": "code",
   "execution_count": 31,
   "metadata": {
    "deletable": false,
    "editable": false,
    "nbgrader": {
     "cell_type": "code",
     "checksum": "1d5da8b3485c912e0e04d5a4cb125678",
     "grade": true,
     "grade_id": "q6c-tests",
     "locked": true,
     "points": 2,
     "schema_version": 2,
     "solution": false
    }
   },
   "outputs": [],
   "source": [
    "# This is a cell with just a comment but don't delete me if you want to get credit."
   ]
  },
  {
   "cell_type": "markdown",
   "metadata": {
    "deletable": false,
    "nbgrader": {
     "cell_type": "markdown",
     "checksum": "b0c889c63a8057b74c02d98a0b25e392",
     "grade": true,
     "grade_id": "q6-written",
     "locked": false,
     "points": 3,
     "schema_version": 2,
     "solution": true
    },
    "tags": [
     "solution",
     "written",
     "q06"
    ]
   },
   "source": [
    "(a) There are 0 false positives and 1918 false negatives.\n",
    "\n",
    "(b) The classifier's accuracy on the training set is roughly 74.5%. Its recall is 0%.\n",
    "\n",
    "(c) For the logistical regression classifier, the precision was about 64.2%, the recall was about 11.4%, and the false-alarm rate was about 2.2%. There were more false negatives than false positives (1699 false negatives and 122 false positives).\n",
    "\n",
    "(d) Our logistical regression classifier performed marginally better than the zero classifier, with roughly 75.6% accuracy compared to the zero classifier's 74.5% accuracy.\n",
    "\n",
    "(e) The logistical regression classifier is performing poorly because we only used 5 words as features when training and fitting our model, so we're underfitting. We need more features to improve the accuracy of our model.\n",
    "\n",
    "(f) I'd prefer the zero classifier, since I'd rather not filter out any spam emails than accidentally filter out a ham email. Since the logistical regression classifier does not have a very high prediction accuracy, it could erroneously mark a ham email as spam and filter out that ham email, which may have important content. I'd rather not run that risk and just receive both ham and spam emails in my inbox so no important information is lost."
   ]
  },
  {
   "cell_type": "markdown",
   "metadata": {
    "deletable": false,
    "editable": false,
    "nbgrader": {
     "cell_type": "markdown",
     "checksum": "420d757256a0c1fd96228b7f622682bb",
     "grade": false,
     "grade_id": "p2",
     "locked": true,
     "schema_version": 2,
     "solution": false
    }
   },
   "source": [
    "# Part II - Moving Forward\n",
    "\n",
    "With this in mind, it is now your task to make the spam filter more accurate. In order to get full credit on the accuracy part of this assignment, you must get at least **88%** accuracy on the evaluation set. To see your accuracy on the evaluation set, you will use your classifier to predict every email in the `evaluation` DataFrame and upload your predictions to Kaggle.\n",
    "\n",
    "To prevent you from fitting to the evaluation set, you may only upload predictions to Kaggle twice per day. This means you should start early and rely on your **test data** to estimate your Kaggle scores.  \n",
    "\n",
    "Here are some ideas for improving your model:\n",
    "\n",
    "1. Finding better features based on the email text. Some example features are:\n",
    "    1. Number of characters in the subject / body\n",
    "    1. Number of words in the subject / body\n",
    "    1. Use of punctuation (e.g., how many '!' were there?)\n",
    "    1. Number / percentage of capital letters \n",
    "    1. Whether the email is a reply to an earlier email or a forwarded email\n",
    "1. Finding better words to use as features. Which words are the best at distinguishing emails? This requires digging into the email text itself. \n",
    "1. Better data processing. For example, many emails contain HTML as well as text. You can consider extracting out the text from the HTML to help you find better words. Or, you can match HTML tags themselves, or even some combination of the two.\n",
    "1. Model selection. You can adjust parameters of your model (e.g. the regularization parameter) to achieve higher accuracy. Recall that you should use cross-validation to do feature and model selection properly! Otherwise, you will likely overfit to your training data.\n",
    "\n",
    "You may use whatever method you prefer in order to create features. However, **you are only allowed to train logistic regression models and their regularized forms**. This means no random forest, k-nearest-neighbors, neural nets, etc.\n",
    "\n",
    "We will not give you a code skeleton to do this, so feel free to create as many cells as you need in order to tackle this task. However, answering questions 7, 8, and 9 should help guide you.\n",
    "\n",
    "---\n",
    "\n",
    "**Note:** *You should use the **test data** to evaluate your model and get a better sense of how it will perform on the Kaggle evaluation.*\n",
    "\n",
    "---"
   ]
  },
  {
   "cell_type": "code",
   "execution_count": 41,
   "metadata": {},
   "outputs": [
    {
     "name": "stdout",
     "output_type": "stream",
     "text": [
      "Requirement already satisfied: WordCloud in /srv/conda/envs/data100/lib/python3.6/site-packages\n",
      "Requirement already satisfied: matplotlib in /srv/conda/envs/data100/lib/python3.6/site-packages (from WordCloud)\n",
      "Requirement already satisfied: pillow in /srv/conda/envs/data100/lib/python3.6/site-packages (from WordCloud)\n",
      "Requirement already satisfied: numpy>=1.6.1 in /srv/conda/envs/data100/lib/python3.6/site-packages (from WordCloud)\n",
      "Requirement already satisfied: six>=1.10 in /srv/conda/envs/data100/lib/python3.6/site-packages (from matplotlib->WordCloud)\n",
      "Requirement already satisfied: python-dateutil>=2.0 in /srv/conda/envs/data100/lib/python3.6/site-packages (from matplotlib->WordCloud)\n",
      "Requirement already satisfied: pytz in /srv/conda/envs/data100/lib/python3.6/site-packages (from matplotlib->WordCloud)\n",
      "Requirement already satisfied: cycler>=0.10 in /srv/conda/envs/data100/lib/python3.6/site-packages (from matplotlib->WordCloud)\n",
      "Requirement already satisfied: pyparsing!=2.0.4,!=2.1.2,!=2.1.6,>=2.0.1 in /srv/conda/envs/data100/lib/python3.6/site-packages (from matplotlib->WordCloud)\n",
      "\u001b[33mYou are using pip version 9.0.1, however version 10.0.1 is available.\n",
      "You should consider upgrading via the 'pip install --upgrade pip' command.\u001b[0m\n"
     ]
    }
   ],
   "source": [
    "!pip install WordCloud\n",
    "import collections\n",
    "from wordcloud import WordCloud, STOPWORDS\n",
    "%matplotlib inline"
   ]
  },
  {
   "cell_type": "code",
   "execution_count": 42,
   "metadata": {},
   "outputs": [],
   "source": [
    "# vector = CountVectorizer()\n",
    "# Phi_test = vector.fit_transform(test['email'])\n",
    "# Y_test = test['spam']\n",
    "# test_accuracy = model.score(Phi_test, Y_test)\n",
    "# test_accuracy"
   ]
  },
  {
   "cell_type": "code",
   "execution_count": 47,
   "metadata": {},
   "outputs": [],
   "source": [
    "spam_data = train[train['spam'] == 1]\n",
    "spam_text = spam_data.email.str.cat(sep = ' ')\n",
    "\n",
    "ham_data = train[train['spam'] == 0]\n",
    "ham_text = ham_data.email.str.cat(sep = ' ')\n",
    "\n",
    "import re \n",
    "spam_text = re.sub('<[^<]+?>', '', spam_text)\n",
    "ham_text = re.sub('<[^<]+?>', '', ham_text)"
   ]
  },
  {
   "cell_type": "code",
   "execution_count": 51,
   "metadata": {},
   "outputs": [
    {
     "name": "stdout",
     "output_type": "stream",
     "text": [
      "How many most common words to print: 1\n",
      "=20 :  3829\n"
     ]
    }
   ],
   "source": [
    "stopwords = set(STOPWORDS)\n",
    "spam_wordcount = {}\n",
    "\n",
    "for word in spam_text.lower().split():\n",
    "    word = word.replace(\".\",\"\")\n",
    "    word = word.replace(\",\",\"\")\n",
    "    word = word.replace(\":\",\"\")\n",
    "    word = word.replace(\"\\\"\",\"\")\n",
    "    word = word.replace(\"!\",\"\")\n",
    "    word = word.replace(\"â€œ\",\"\")\n",
    "    word = word.replace(\"â€˜\",\"\")\n",
    "    word = word.replace(\"*\",\"\")\n",
    "    if word not in stopwords:\n",
    "        if word not in spam_wordcount:\n",
    "            spam_wordcount[word] = 1\n",
    "        else:\n",
    "            spam_wordcount[word] += 1\n",
    "# Print most common words\n",
    "n_print = int(input(\"How many most common words to print: \"))\n",
    "word_counter = collections.Counter(spam_wordcount)\n",
    "for word, count in word_counter.most_common(n_print):\n",
    "    print(word, \": \", count)"
   ]
  },
  {
   "cell_type": "code",
   "execution_count": 50,
   "metadata": {},
   "outputs": [
    {
     "name": "stdout",
     "output_type": "stream",
     "text": [
      "How many most common words to print: 1\n",
      "> :  46787\n"
     ]
    }
   ],
   "source": [
    "ham_wordcount = {}\n",
    "\n",
    "for word in ham_text.lower().split():\n",
    "    word = word.replace(\".\",\"\")\n",
    "    word = word.replace(\",\",\"\")\n",
    "    word = word.replace(\":\",\"\")\n",
    "    word = word.replace(\"\\\"\",\"\")\n",
    "    word = word.replace(\"!\",\"\")\n",
    "    word = word.replace(\"â€œ\",\"\")\n",
    "    word = word.replace(\"â€˜\",\"\")\n",
    "    word = word.replace(\"*\",\"\")\n",
    "    if word not in stopwords:\n",
    "        if word not in ham_wordcount:\n",
    "            ham_wordcount[word] = 1\n",
    "        else:\n",
    "            ham_wordcount[word] += 1\n",
    "# Print most common word\n",
    "n_print = int(input(\"How many most common words to print: \"))\n",
    "word_counter = collections.Counter(ham_wordcount)\n",
    "for word, count in word_counter.most_common(n_print):\n",
    "    print(word, \": \", count)"
   ]
  },
  {
   "cell_type": "code",
   "execution_count": 509,
   "metadata": {},
   "outputs": [],
   "source": [
    "# for word in word_features:\n",
    "#     print(word + ':')\n",
    "#     print('ham - '+str(ham_wordcount[word]))\n",
    "#     print('spam - '+str(spam_wordcount[word]))\n",
    "#     print('')"
   ]
  },
  {
   "cell_type": "code",
   "execution_count": 55,
   "metadata": {},
   "outputs": [
    {
     "data": {
      "text/plain": [
       "['htshorizonie',\n",
       " '8/15/2002our',\n",
       " 'w/acstate',\n",
       " '7470952/46/43&nbsp;&nbsp;',\n",
       " '$__________',\n",
       " '&nbsp;&nbsp;&nbsp;&nbsp;&nbsp;&nbsp;&nbsp;en',\n",
       " 'pickling',\n",
       " 'zlkwz1jvscssolozfere4csxmp29pg4pxbvnltftty/hroku6c9o7xxrn+vkrenlzm/koogo+ryl',\n",
       " 'http//wwwcygwincom/',\n",
       " 'operationc',\n",
       " \"'worthless\",\n",
       " 'signatures)',\n",
       " '((navigatorappname',\n",
       " 'easyadpost',\n",
       " 'invaluablemarketing',\n",
       " 'mrsa',\n",
       " 'copyright(c)',\n",
       " 'nomore',\n",
       " 'vc-backed',\n",
       " 'z2h0psixosigywx0psiiigjvcmrlcj0imci+pc9hpjwvdgq+dqojcqkjphry',\n",
       " 'raq3',\n",
       " 'http//611298199/al/elitem/',\n",
       " 'soufflerions',\n",
       " '030735pm',\n",
       " 'clichd',\n",
       " 'columns',\n",
       " 'mrkvcytd3ngvcn2fxxsrkvbe4jm6a5imftnuuhxswdbq9o15ppjtztkqa2ulvhkoki8vppem',\n",
       " '60-metre',\n",
       " 'http//wwwlivejournalcom/talkreadbml?journal=jwz&itemid=48393',\n",
       " '0410',\n",
       " '(mhbslsilcom',\n",
       " 'propagates',\n",
       " \"bearing'\",\n",
       " 'http//surveywhitehatcom/predirectphp?c=6687',\n",
       " '$615',\n",
       " 'http//80716557/optouthtml',\n",
       " 'icagicagicagicagpc9kaxy+dqogicagicagicagicagica8yni+dqogicag',\n",
       " 'cmlhbckupc9mst4ncg0kpexjpg0kssb3awxsig5vdcbhbgxvdybhbnlvbmug',\n",
       " 'sparkling',\n",
       " 'outlawing',\n",
       " 'sryderwork',\n",
       " '1058',\n",
       " 'bezos',\n",
       " '/boot/message',\n",
       " 'dyn',\n",
       " ';aquire',\n",
       " 'folkestone',\n",
       " 'listbox',\n",
       " 'towering',\n",
       " 'http//mdnmainichicojp/news/20021201p2a00m0fp001000chtml',\n",
       " '\\x1b$bmh=5$o$8$a$k;0i)2=3x%(%s%8%k%%j%s%0mm$kjs9p$9$k\\x1b(b',\n",
       " 'url(#default#vml)',\n",
       " 'toy_design_guru',\n",
       " 'policymakers',\n",
       " 'http//wwwwashingtonpostcom/wp-dyn/articles/a6587-2002aug11html',\n",
       " 'wrought',\n",
       " 'dtkaxxyw6x3d1zjntpixklirasjltzsqxxnxuqu2e0ryn3fkjblopymbvy12zgzr0a2i9mp8ezgz',\n",
       " 'lb',\n",
       " 'ϣլզզ˦ں棬ʱķǵվ',\n",
       " '//////////////////////////////////////////////+piiiiiid/////////////////////',\n",
       " 'intructed',\n",
       " 'sweetens',\n",
       " 'daintier',\n",
       " 'paradies',\n",
       " \"'proprietary'\",\n",
       " 'zt0inci+tgv0dqogicagicagihvzigrvihrozsbzag9wcgluzybmb3igew91',\n",
       " '------=_nextpart_000_00d1_50e24c7bc3584b84',\n",
       " 'emirates',\n",
       " 'janesaccounting6782@hotmailcom?',\n",
       " 'parker',\n",
       " '1580-17600&nbsp;&nbsp;if',\n",
       " '11000000',\n",
       " '24)',\n",
       " '6re',\n",
       " 'pontificates',\n",
       " 'dreamweavermx',\n",
       " '[should',\n",
       " '+2657',\n",
       " 'bsd_resp',\n",
       " \"d'inscrit(e)s\",\n",
       " 'spfa',\n",
       " 'prone',\n",
       " 'padding-left',\n",
       " 'case&quot;',\n",
       " 'hurricane-ish',\n",
       " 'zooming',\n",
       " 'anjn8oeqt+hom/ld1of0mzsv16aju8bjxfo5byyvem0tkd0fle6tlaiqwlrukmnfcgzb9o9lm6ie',\n",
       " 'smtsrjye0f/2scbfuieq6atjgjvsajndaezpje1ygmvgbbl9ziv/listnist+or+iy/fya9rne28',\n",
       " 'citrusy',\n",
       " 'distributeur',\n",
       " 'http//freshmeatnet/projects/tcpreen/',\n",
       " '///8//////z/////////z////////////p///////////////////////////////p//////////',\n",
       " 'nxw/f6dfql3xzmf0nmj1vqpwpvl7ooipvogbwmbuxtxu1prxpcp553+d/rjk+18j6b9q7etnymi4',\n",
       " 'chocolatey',\n",
       " 'ukvgpsjodhrwoi8vag9tzs50ywxry2l0es5jb20vu3bhcmtwbhvnu3qvymls',\n",
       " 'healthiest',\n",
       " 'cmrhbmesqxjpywwssgvsdmv0awnhlhnhbnmtc2vyawygc2l6zt0ypkludgvy',\n",
       " 'flinched',\n",
       " 'laporte',\n",
       " '[join',\n",
       " 'viotuymbgtkh7qbmakymyrurekcthwxyjjdgftcw1xdwilnjzqupuopqtsloejq2ggbizprkvokq',\n",
       " 'architecture)',\n",
       " '/should/',\n",
       " '095549am',\n",
       " 'below&nbsp;',\n",
       " \"'<form'\",\n",
       " 'quitcherbraggin',\n",
       " 'maildir++',\n",
       " 'sharing--making',\n",
       " '7pv2apbz9uz79gd28/bs+/ya9vp27pv2apbz9gd2apbn9uz75fvs++z77pvs++z77n777pvs++z7',\n",
       " 'webcasting',\n",
       " 'ysbodhrwlwvxdwl2psjdb250zw50lvr5cguiignvbnrlbnq9inrlehqvahrtbdsgy2hhcnnl',\n",
       " '1366kb',\n",
       " 'somhjjxc0kstvkmxzevvnnrl4vkzhmptdepzrpskhbsvxntk9kw1xdxl9vzmdoawprbg1ub2jzdh',\n",
       " 'notoriously',\n",
       " 'dawson',\n",
       " '>basis',\n",
       " 'http//arstechnicacom/reviews/02q3/macosx-102/macosx-102-5html',\n",
       " 'klipsch',\n",
       " 'ezauf5kg+cmeysk4snwndurjrv/p8n+n7zhir4hpbnvzqvfiiv5zzzcjjlmg0n+8yl9bmbms7w1e',\n",
       " 'mso-ansi-font-size',\n",
       " 'double-spaced',\n",
       " 'underwrite',\n",
       " 'honey9531=40mailnetcn',\n",
       " 'reclassify',\n",
       " '2002-09-24',\n",
       " '2002-10-09t031516+0100',\n",
       " 'zmlszt0vcgfnzs9pdgvtcgfnzxy0l2l0zw1wywdllnnwbczwcm9ksuq9otuy',\n",
       " 'aries',\n",
       " 'http//wwwgergca/',\n",
       " 'healey',\n",
       " 'compactflash',\n",
       " 'file///path-to-files/rpmsos',\n",
       " 'call888-800-6339',\n",
       " 'newcar',\n",
       " 'morpheus',\n",
       " 'th+xi07ubotvcnu7qm+c038mjzy3pigprepqpbu2xqvvn9bmgorcis5e4avhp2jlj/ks97wsaapp',\n",
       " 'unsubstatiated',\n",
       " 'ihn0ewxlpsjtyxjnaw4tdg9woiawchg7ig1hcmdpbi1ib3r0b206idbwecigywxpz249imnlbnrl',\n",
       " 'http//wwwnytimescom/2002/09/26/business/26vivehtml',\n",
       " \"'executable'\",\n",
       " 'cnets',\n",
       " '/wdco8neejfvvdzo8wesv21szmsynac6/r/ya+ofsm7pgg7+oao2nmvfh1o0win7+3/zszwj',\n",
       " '700mhz',\n",
       " '(gmt)',\n",
       " 'w+m820xzi8hmkmlev7wdbgsnxatria0/ugkjtagm5bgyku4p4ovkx3p22ipdozoxkmceipuyn/+t',\n",
       " 'http//wwwquicktopiccom/boing/h/exfecjhgnp4',\n",
       " 'junk;',\n",
       " 'sehr',\n",
       " '7442mcpk0-l9',\n",
       " '&quot;lost&quot;',\n",
       " '------=_nextpart_000_1034f3_01c259afca052980',\n",
       " '//////////////////////////////////////////////+piiiiiid////w////////8p/w8p8p',\n",
       " \"'$string'\",\n",
       " 'xrmplf8aafiapnuwaabxzaolq+hg2/bmmel6mvvlyzpjhvmt4477snnzllkusvgshbzlhgqummop',\n",
       " 'meit',\n",
       " 'beirut',\n",
       " 'dy5ucgfnlm5ldc9ob21lymfzzwqvzw1hawxfdgvtcc9lbwfpbdeyl3jlbw92zs5nawygd2lk',\n",
       " 'plaster',\n",
       " 'http//wwwhotmailcom',\n",
       " '-but-',\n",
       " '/usr/bin/razor-check',\n",
       " 'sigwaitinfo()',\n",
       " 'cornered',\n",
       " '=09=20',\n",
       " 'likefree',\n",
       " '&nbsp;life',\n",
       " 'wwfcvwyfk/4apab892caysmh2ff6swflsxavsk/0jsk/0lghtfs3vfyv/phyv/plapa/zuq+wr/s',\n",
       " 'chlorophyll',\n",
       " 'hedef',\n",
       " \"'dist-upgrade'\",\n",
       " 'pvwpj',\n",
       " 'sources/patches',\n",
       " 'iiiiiiiiiiiiiiiiiiiiiiiij4iiiiiiiiiiiiiiiiiiiiiiiiiiiiiiiiiiiiiiiiiiiiiiiiii',\n",
       " '+7320',\n",
       " 'ahem',\n",
       " 'jth@jthnet',\n",
       " 'accelerated',\n",
       " 'proposing',\n",
       " '2716%',\n",
       " '/usr/bin/procmail',\n",
       " 'jetdirect',\n",
       " 'complexnear',\n",
       " 'low;',\n",
       " 'maȱӥο줽ǥӯhc',\n",
       " 'hashmap?',\n",
       " 'canparticipate',\n",
       " 'pjwvcd4gdqo8ccbhbglnbj0iy2vudgvyij4mbmjzcds8l3a+ia0kphagywxp',\n",
       " 'cqv1tdnpuffhlqortqk91sh5l+myowj37igknsh9sid5jxhpypzs1dkemxkzq1ktr396iyxilbrd',\n",
       " 'txnvtm9ybwfslcbkaxyutxnvtm9ybwfsdqoje21zby1zdhlszs1wyxjlbnq6iii7dqojbwfyz2lu',\n",
       " 'ptions',\n",
       " 'co2',\n",
       " 'orbb',\n",
       " '>rodbegbie',\n",
       " '0787',\n",
       " 'led0igfz8vamlndbyn0evuhrzuv0xaac3iibvph/nvyjeqhj0mccboe23xz54i8kxrer3evv+auy',\n",
       " \"kids'\",\n",
       " 'boetius',\n",
       " 'followingthen',\n",
       " 'answers)',\n",
       " 'mandarin',\n",
       " '243+',\n",
       " 't+/152dpjh0nds3res4rfurpxioj3rct3z7fhgs8zrkv1slxbbvzee1nhahol0qq6tsk3ndxwngq',\n",
       " 'dispute?',\n",
       " '------=_nextpart_000_0002_01c2381794245ed0',\n",
       " 'd/d/dwd/dw8p//dw//8p//d/dw//dw//d/d/dwd/dw8p//8p//d/dw//dw//d/d/dwd/dw8p//8p',\n",
       " 'eason',\n",
       " '3737',\n",
       " 'wif=',\n",
       " '60_whitelistcf',\n",
       " 'becker',\n",
       " 'interested?&nbsp;',\n",
       " 'csu',\n",
       " 'pppoed',\n",
       " 'multi-physician',\n",
       " 'cellspacing=3d=220=22',\n",
       " 'junctures',\n",
       " 'technologie',\n",
       " '150021',\n",
       " '0fazjglhcoksq1mvy3m08sugfqkygwcmnclsrjnuoxdkrvu2dgxi8roew9n14/nglksftjxe1ot0',\n",
       " 'lmonth=3dmonths[timegetmonth()',\n",
       " '51)',\n",
       " '&#8255;manual',\n",
       " 'exit()',\n",
       " 'wormcode',\n",
       " '$87',\n",
       " 'icagicagicagicagica1mtasiduvribgdwsgu2hpbmcgq29tbs4gqmxkzy4sie5vlji4lcbpbibm',\n",
       " '=09&#149;',\n",
       " '=-=-=-=-=-=-=-=-=-=-=-=-=-=-=-=-=-=',\n",
       " '/home/dale/rpmbuild/tmp/rpm-tmp26673',\n",
       " 'ngan',\n",
       " \"karp's\",\n",
       " 'lcb5b3ugd2lsbcboyxzlihrozsbvchbvcnr1bml0esb0bybwyxj0awnpcgf0',\n",
       " '800-316-5495',\n",
       " 'accordis',\n",
       " 'bookclub',\n",
       " '2001&nbsp;the',\n",
       " 'worriedconsidering',\n",
       " 'jugalbandhi',\n",
       " 'xf=20',\n",
       " 'company=20',\n",
       " 'acrylic',\n",
       " 'perl\\x1b$b$r%$%s%9%h<%k$7j@',\n",
       " '(cmd2)',\n",
       " 'slam',\n",
       " 'http//wwwsecurityfocuscom/bid/5363',\n",
       " 'wwwlife-settlements-onlinecom',\n",
       " 'http//onlinewsjcom/article/0sb10340331425809456000html',\n",
       " 'tantric',\n",
       " '91a',\n",
       " 'r-#5e8c$^72;/&pf0ycx/et@6sqc',\n",
       " 'iiihf///8p/////wd/////d/////d/////8a/////w///w///w//////////////////////////',\n",
       " 'mtk68vxnxl3uuou3ya4splg=',\n",
       " 'gadvh2ssfkv74zkrhihw9y1h4gwummbmvj2xmhbhzwuqaf3h9zl54g0nqhqogkyacatxrqcfzjug',\n",
       " '15000+',\n",
       " '18ghz',\n",
       " 'ahdtdxh2cnn5cwn3amh2dhr4dzwvdgl0bgu+pc9ozwfkpg0kpgjvzhk+pha+pgzvbnqgzmfj',\n",
       " 'ect)',\n",
       " 'stirring',\n",
       " '=========================================================================',\n",
       " 'favors',\n",
       " 'navajo',\n",
       " '(copying',\n",
       " 'ziqecfi4rcedzjqf+fcp3aubbggqggsgxqei+bcc0iabfcubfg24eymnaekq+jcjag0exmf4qqzd',\n",
       " 'bmqgphu+dgvsbcbtzsb5b3ugyxjligludgvyzxn0zwq8l3u+ojxicj48yni+',\n",
       " '/////wdw//8p//////d/////8p///w//8p///w//////////8p//////////8p/w8p////d/////',\n",
       " 'brocard',\n",
       " 'reordering',\n",
       " 'semiconductors',\n",
       " 'dustbin',\n",
       " 'lofty',\n",
       " 'xyak+70+yh9h3en2upswacvu9psofyd3p9ld7fgar7vt7kh2hd6fzq+xyak+70+yh9h3en2upswa',\n",
       " 'f0%e4%8c%85%9e%f4%f0%e4%9c%88%f6%f6%e3%9f%9a%f2%f4%e5%98%89%87%88%91%f4%f0=',\n",
       " \"$50'\",\n",
       " '1kgv/tl2anoyubarvlwxjmabzgecltcscacxgnadn7afh9oescaew8aelgmctyafitidkdmmccge',\n",
       " 'cavkiiujllzqq4ukuiihualkwybte0aqeqcywyektilkyags8b4ieooks7jlywkjo7iku4q46k1b',\n",
       " 'long?',\n",
       " 'body{colorblack;',\n",
       " 'viagra&reg;',\n",
       " 's;',\n",
       " 'http//wwwcnncom/2002/world/americas/08/26/perumotherreut/indexhtml',\n",
       " 'lotse',\n",
       " 'http//useperlorg/commentspl?sid=02/08/08/1927253',\n",
       " 'crayfish',\n",
       " 'unbreakable',\n",
       " 'naa',\n",
       " '>best',\n",
       " 'bglnbj1tawrkbgugywxpz249y2vudgvypjxhighyzwy9imh0dha6ly93d3cu',\n",
       " 'http//onlinewsjcom/article_print/0sb1032747510236343300html',\n",
       " '2a74ejqkfgom8tqerlpbjxbag5j+2oeh/wbhrunvsjzbyqaiadessikqhog4yc2ymwdifrch',\n",
       " '46-stable',\n",
       " 'sharepoint',\n",
       " '0401',\n",
       " 'size=3d=222=22=3e800=2e000',\n",
       " '(huuka)',\n",
       " 'brrcv+bhrzplnbmxup3v5vspjmurmxpexsbb3k0wtgbtjlkgqbhdyqn6qahqqray6svznb9bw2ug',\n",
       " '(99)',\n",
       " 'ilialamonvnco=',\n",
       " 'qws9xhw0uhi4qg77uilqgktyaarl/wiqfbidi6bi+epbxmcysqyys9nx1audsacr7iuwlwzzl3ao',\n",
       " 'clmwyxozyaqb2idhbqccdkeibsgmeoibfouq0rusisluyiyo2bjthqsktkziagsvshryjhj96cjj',\n",
       " '>definitional',\n",
       " 'darrington',\n",
       " 'bgvzywxlc3bvcnrzl3bhz2uuahrtbd9tb2rlpwl0zw1wywdljmzpbgu9l3bh',\n",
       " 'patternlength',\n",
       " '(rsync',\n",
       " 'efks2iu9eo8kcm971xss2orcq84rwwshbz+axtm70chjfkgaaquurp3u1ofwouelpepw1+vfcofc',\n",
       " 'gtkmm',\n",
       " 'm9e]i;w)e<75e<w0k9cdo34p/@i4<f%c93l@8s',\n",
       " 'bottom&nbsp;',\n",
       " 'http//wwwadclickws/pcfm?o=322&s=pk1',\n",
       " 'union]',\n",
       " 'lascaux',\n",
       " 'fervor',\n",
       " 'inet_ntoa(sock_outsin_addr));',\n",
       " 'eliminated&nbsp;',\n",
       " 'approvalsbefore',\n",
       " '>following',\n",
       " 'lindowscom=20',\n",
       " 'karl',\n",
       " 'djzshp5mnnw84smbsiwyysrescidkklgradouqhv3g4hussw2+cqbgocqxhauiaoojakartdfo1j',\n",
       " 'etoys',\n",
       " 'a9orgnavmm+u/ajhn+rbfhhemqhg9oxw1k4rio5w8nyvekshpx4iirg9vu86fiadjd9nvn5c0ait',\n",
       " 'border-width3px;',\n",
       " 'd4+id4+id///////iiiiiiiiiiiiiiiiiiiiiiiiiiiiiiiiiiiiiiiiiiiaaaaaciiiiiciiiga',\n",
       " '2/13/02',\n",
       " 'clipping',\n",
       " 'http//freshmeatnet/projects/papercut/',\n",
       " '/after/',\n",
       " '/root/razor',\n",
       " 'aaaaaagaaaaecgaadqoaabkkaaafcgaavaoaaf0kaabscgaadqoaafylaabocwaabqsaabwabwac',\n",
       " 'http//webloginfoworldcom/udell/2002/09/23html#a422',\n",
       " 'dhmvymvsb3d3ag9szxnhbgvzcg9ydhmvcgfnzs5odg1sp21vzgu9agvscczm',\n",
       " 'moneydance',\n",
       " 'xclipboard',\n",
       " 'biplanes',\n",
       " 'moller',\n",
       " 'ausstellenden',\n",
       " 'ml-1450',\n",
       " 'hundred++',\n",
       " '218-6150&nbsp;',\n",
       " '4847',\n",
       " 'uxv5vrxporvvuvgz9m/thptp3f+nwluoev7fwaxq9/vsu5pjj+bycuzsxoqaqaqaqaqaqa5+pryq',\n",
       " 'reintegration',\n",
       " '(ap)--the',\n",
       " 'color=',\n",
       " '$70)',\n",
       " '(wstearns@poboxcom)',\n",
       " 'phone2',\n",
       " '------=_nextpart_000_00c5_80c76a1dc6068d13--',\n",
       " 'blondness',\n",
       " 'overridded',\n",
       " 'detailsi',\n",
       " '--ejnrukwclwjh1khz',\n",
       " 'i++;',\n",
       " 'argh',\n",
       " 'hain',\n",
       " 'only=09',\n",
       " 'jtceemtxwmpaib0urk0fjibnkgcoclsvwaechkmbtc1k1nmviawhgqqggqefiyasppgmhmg1ds4o',\n",
       " 'http//diveintomarkorg/images/jjpg',\n",
       " 'ffvwrx5rnwuwowwjy+91xqat/oct3dzpd5hqbg5wga0cu4cvm4gsarpkzceqsfvgb3ng5wagzmce',\n",
       " 'cje6rw6mzj7khuqtsdftjk3o1eby+gf9dj/tw9/fs8/pclqcjlo309nzau1h6hmrc1+9owxv51nf',\n",
       " 'fromk',\n",
       " 'telecommunication',\n",
       " 'threads=true)',\n",
       " '2002-09-26t051910+0100',\n",
       " 'sec)',\n",
       " 'fd0ziy05bjsq4l57gzn0vhr26ks4prc+wpkprb2qha6qlcgzeoc47u39fzrjlvywyskrzr9bpdzq',\n",
       " '2gaiaqeaaquc5aqrnysrg6/stv4gd5q/js2/d82fkl3xnwa1bsphtnpap6ljk5ensnej4kaufq4d',\n",
       " 'payne',\n",
       " 'erm=f6glichen',\n",
       " '$ix',\n",
       " 'e-zine?',\n",
       " '1245',\n",
       " '=3cbody',\n",
       " '-0700]',\n",
       " 'marryat',\n",
       " 'amazon[1]',\n",
       " 'bennett',\n",
       " 'partly',\n",
       " 'distibution',\n",
       " 'getterscanmake',\n",
       " 'viewmaster',\n",
       " '1943',\n",
       " '&#147;carmella&#148;',\n",
       " 'http//wwwunioncameraltdcom',\n",
       " 'gsifu0rs2sons4trjfhe0sr/kjdx4agindrygtykvpacu9xjd+t1detahclz/c/1xdzralqdbkbr',\n",
       " 'miniscule;',\n",
       " 'h82uto/6tr1k+m6s+3rlefzh9ys4+r5ig5yosp8arb7v/ptjamccyli9d/pw6l+udyf9lmt+',\n",
       " 'ag4aaaaaaaaaaaaaadgaageeaaaa//////////8aaaaaaaaaaaaaaaaaaaaaaaaaaaaaaaaaaaaa',\n",
       " 'signature_______________________________',\n",
       " 'offense',\n",
       " 'h5scftkrfp98a47/abixuha9vtznqjlmn4yljhsoam+f8zycvhwnhkkzajbqo07fswcnbb41thgs',\n",
       " '7b4+g9bh9t2dofbwptzdxqrq9rkmjys9xt33ufr/aggv9bn9cjdfgakmmbsunktk+b4ssq1ftuds',\n",
       " 'webiwas',\n",
       " 'prado',\n",
       " 'netcaptor[4]',\n",
       " 'ptagd2lkdgg9ijewmcuipg0kica8vejprfk+dqogidxuuj4nciagica8veqgywxpz249bwlkzgxl',\n",
       " '0>',\n",
       " 'spamness',\n",
       " '1518',\n",
       " 'njg1mji5liagew91cg0kywjzb2x1dgugdhj1c3qgyw5kignvbmzpzgvudglhbgl0esbpcybo',\n",
       " 'pofrweul',\n",
       " 'http//homefreiepressede/befis/zx2000html',\n",
       " 'cross-section',\n",
       " 'yonks',\n",
       " 'shut_rd',\n",
       " 'logger',\n",
       " 'kl9ly7c3a0tdxob+atv6o/0hk/8add35wqpkcizbaipqegpquojqgy6u2cxzhjmthly/rt/zktbd',\n",
       " 'tuxfamily',\n",
       " '[mailtojulian_bond@voidstarcom]',\n",
       " 'bastards',\n",
       " '590',\n",
       " '(hil)',\n",
       " 'citwb8582lajs0rxnhvrkjwfzr765ixm3i8/v+v1ft/c5br7ywyioxwng7q/x6vp/uy9r6xz8zlj',\n",
       " 'rachael',\n",
       " 'http//wwwtheregistercouk/content/4/26305html',\n",
       " 'actaully',\n",
       " 'killjoy)',\n",
       " '0541',\n",
       " 'v40',\n",
       " 'advertsprj40@cs=2ecom',\n",
       " 'enforces',\n",
       " '{in',\n",
       " 'squatters',\n",
       " 'ifvzzsagicagica8yni+dqogicagicagicagicagica8l2zvbnq+pgzvbnqg',\n",
       " 'advapi32dllprocessidletasks',\n",
       " 'mufflers',\n",
       " 'iiiiiiiiiiiiiiiiiiiiiiip////d///d//w///w8p//8pdw8p////8p//d///d///8p8p//8p//',\n",
       " 'bdsmers?',\n",
       " '//z///////z//////8//z//////////m/////////////////p//////////////z///z//8/8z/',\n",
       " 'cebit',\n",
       " '/going/',\n",
       " 'xsrc=a[i+2];}',\n",
       " 'fjnptrll5apu9yo2yxpguxbbf1x/0nz1rsack8x5npbzsy9zf6mnivsva5wa85pmn1yxxlgxotp4',\n",
       " 'courese',\n",
       " 'ssa',\n",
       " 'lagosnigeria',\n",
       " 'http//philringnaldacom/archives/002336php',\n",
       " '5more',\n",
       " 'item&nbsp;&nbsp;&nbsp;&nbsp;&nbsp;&nbsp;&nbsp;&nbsp;&nbsp;&nbsp;&nbsp;&nbsp;&nbsp;&nbsp;&nbsp;',\n",
       " 'evodia',\n",
       " 'wh8yp3vyfv1iz7k7hg7iy11knsaxn2ca2+3x3o9oq32f8kt4fs+rbpntpk8qo7/mv6r3np3o7jo4',\n",
       " 'icagicagidx0zcb3awr0ad0indiipjyumzc1jtwvdgq+dqogicagicagicag',\n",
       " 'http//wwwlaxpresscom/50sites/sinfulhardcorehtml',\n",
       " '2790',\n",
       " '--]rude',\n",
       " 'pc90ywjszt4gphrhymxlihdpzhroptuwmcbhbglnbj1jzw50zxi+phrypjx0',\n",
       " 'zgt0m9y4nf0xy5ecuhwknr61x9ceofu1vqyfad5jtztxx6gbu+sm022yhdgcswyjvr+8vgdpduzt',\n",
       " 'cwfz4dgn/a+iisiudotywbdgwac0s+oie3nwclrkngc15xw5mze9jqc8ajsvhl873gauilx1jcgk',\n",
       " 'ik1zb05vcm1hbcigc3r5bgu9im1zby1syxlvdxqtz3jpzc1hbglnbjogbm9uzsigywxpz249',\n",
       " 'edrugsourcecom&nbsp;include',\n",
       " 'http//wwweveningnews24couk/',\n",
       " 'atmospheres',\n",
       " '~]$',\n",
       " 'varybakov',\n",
       " '(4136%)',\n",
       " '325%',\n",
       " 'openssh',\n",
       " \"crossing's\",\n",
       " 'were)',\n",
       " 'q290981',\n",
       " 'festivals',\n",
       " 'done;',\n",
       " 'aaaaavy9zh8r/gsk5esw+v/wal6zd5x/aawfcvwyfk/4laaaaaaaaaaaajzfthkl5nypnri7ljr6',\n",
       " 'don;t',\n",
       " 'impure',\n",
       " 'zxmsdqphbmqgc2f2zsbpdcbvbib5b3vyignvbxb1dgvylibetybot1qgtufl',\n",
       " 'http//clickmm53com/sp/tpl?id=31227552100',\n",
       " 'nitors',\n",
       " 'harder-to-disrupt',\n",
       " 'idea)',\n",
       " 'outcry',\n",
       " '>does',\n",
       " 'picture=',\n",
       " 'animators',\n",
       " 'axl8cybrb250cm9s/g5kzw4gz2xnaxjtaxmgynvsdw5tywt0yxlpei4nckj1ihllbmkgdmvy',\n",
       " '[mailtokiall@redpiecom]',\n",
       " 'supportuk',\n",
       " '&nbsp;free',\n",
       " 'countrythe',\n",
       " '(txt)',\n",
       " 'style=3d=22margin-right=3a',\n",
       " '(sarun',\n",
       " 'prowling',\n",
       " 'pfet+hgygxpxyjj/amh/acjkmgq16d3i2yevayqosf8a1wop/fvo1df6zy0rivh9ag/+fc1d',\n",
       " '@6sqc#(ss<p#y=(%l\\\\8s',\n",
       " '5u4nmuxbitsrsdjlvzjpyqqglkj+fqigd6owg2t8oyvk86f6f3bhlisk8pi7sfuoyv7ny8yuax0j',\n",
       " 'masters)',\n",
       " '11-28%',\n",
       " '&nbsp;unlimited',\n",
       " '(nat)',\n",
       " '\\u07fc',\n",
       " 'howit',\n",
       " 'lancement',\n",
       " '(bu',\n",
       " 'warn',\n",
       " 'http//wwwperl-foundationorg/indexcgi?page=newsletter',\n",
       " 'expanse',\n",
       " 'face=3darial=3e&nbsp=3b=3c=2ffont=3e',\n",
       " 'link=20',\n",
       " '10tjav1u0w8kxvqsfsipbbwcm8saxen6r3gks4ciuwiuknvu06kvotaxkimdzrmu0ig3wdqbwaqv',\n",
       " 'prash',\n",
       " 'design/programming',\n",
       " 'mitch',\n",
       " 'iiiiiiipiiiiiiiij4iiiiiiihepihepihf///////iiiiiiiiiiiiiiiiiiiiiiiiiiiiii+iii',\n",
       " 'ftg1frynnbeafvzkmyfkjhw1fuurqams9pecnqc6wrc92+u6awagyeagawbdgrsfeiaeraainicb',\n",
       " '3srsgomwjndwiakoehofnhpi',\n",
       " 'mboga1uechmtrxf1awzhecbtzwn1cmugsw5jljemmcqga1ueaxmdrxf1awzhecbtzwn1cmugzuj1',\n",
       " 'ick-v',\n",
       " 'adhere',\n",
       " 'kqm1ayw/rrqlzg0suha0zc68eoqkl6uvequu5kdigwgko4ym0jg5kfapwoxi2poelpcirf+icttv',\n",
       " 'cryptographers',\n",
       " '3111)',\n",
       " 'days=2e',\n",
       " 'prescient',\n",
       " 'privity',\n",
       " 'spritzt',\n",
       " 'business=2cyou',\n",
       " 'anzug',\n",
       " 'ipsec/gre/whatever',\n",
       " 'anonymous\\\\ntime',\n",
       " 'maxtor',\n",
       " 'hangers',\n",
       " 'reste',\n",
       " 'cruel',\n",
       " '0oafpsl20yca1ewgk5b5nen4kjzhhzhymrifaxxlfirle5avknf9tcq1sj7q843qxq+bvjwgsdud',\n",
       " 'pgp_getpass',\n",
       " 'self-mutilation',\n",
       " 'http//wwwtheregistercouk/content/23/25245html',\n",
       " '0758',\n",
       " 'tcaaaedgfjt8axbawm69+9qpamjdikrceiazcboapsm+pcidrr40kkf6ul02mr/zeianlaaacqda',\n",
       " 'bleeth',\n",
       " 'theyre',\n",
       " 'kjsoucskmyc5qpwaigxfp87zrhu51poiccylytlarjdg/r0qp5ts6l5ltvkdyjt8mtiq6npmcfuy',\n",
       " 'alternativetry',\n",
       " 'properly)',\n",
       " 'mztfv1vm1tos0bvu3ywepfhm2tld5y50krssb9n4yyc6hzrxkhccuse8u1ehztkmebjvjxqinzsj',\n",
       " 'b3r0b206idaipjxmb250ignvbg9ypsijoda4mdgwij6zb6xpqwwwvaxrsu23frxzp2mkvavxpu61',\n",
       " 'incompatible',\n",
       " 'http//xinlan24cccom',\n",
       " 'wtohumttbyi5wyssz84qx8ww0gdlcgzbjcmea3sxyy2yqfyluvs+klqdltbyw17be7bj0ja1aaey',\n",
       " 'psychology)',\n",
       " 'maaorg',\n",
       " '0x24',\n",
       " 'ihdpzhropsi1mcuiihzhbglnbj0ivg9wij48aw1nihnyyz0iahr0cdovl3bo',\n",
       " 'cordova',\n",
       " 'fromzimmy',\n",
       " '6828gxpg8-954afsk4542ffoo2-493vwtv1743vtlq4-l41',\n",
       " 'pgltzybzcmm9ii9hbhrfaw1hz2vzlziwmdavynrul2j0bl95b3v0ahnwb3j0',\n",
       " 'wholesale)',\n",
       " 'height=8',\n",
       " 'id8dbqe9uuwvpwqdavebu7oragpaakcbgoaqyclpbbmryq53f7izo8yvtqcfqyms',\n",
       " 'jc',\n",
       " '=fubp',\n",
       " 'http//wwwtheregistercouk/content/4/26205html',\n",
       " 'mwsmbdbi7d84/wcagzhus7o72uyorbry2hwmbjr2n6dprfurd/22mcnmyz6hdjp+j4s3xdfl',\n",
       " 'ljxicj4nciagicagidxicj4nciagicagidwvzm9udd48yj48zm9udcbjb2xvcj0iizawmdbgriig',\n",
       " 'sek=fdlde',\n",
       " 'iiiiiiiiiiiiiiiiiiiiiiiiiiiiiiiiiiiiiiiiiiiiiiiiiiiif4h3j4h/iph4iiiiiih/iiii',\n",
       " 'trumped',\n",
       " '&nbsp;transfer/rescue',\n",
       " 'cocos',\n",
       " 'klux',\n",
       " '-temperature',\n",
       " 'plagiarizing',\n",
       " 'teenage-adopted',\n",
       " '+lpfy6fwujzclp44v0yllc+zlguuv/uxbhm2lt4mi9mojwwk/nz9wohpt2gsvpuxtxzhtadmrj8q',\n",
       " 'http//wwwcrawlerdedino-online',\n",
       " '$347',\n",
       " 'rxbg1ibdolxcubxybyngbobcwe1py4lc8hnvleagt2a1io/6selarbzt0dx3mc6qkvdoawwuk8b0',\n",
       " 'nx7xa6kk2v+lfnws6hwpdqolcat+4igzzbdfwmynawb/ireyb0r4gp05sitdol5u',\n",
       " 'microcontrollers',\n",
       " 'difference&nbsp;',\n",
       " \"hunt'\",\n",
       " 'rererf/r+ziiiiiiiiiiiiiiiiiiiiiiiiiil//s+v0w1dbsb803yepb0rererererererererer',\n",
       " 'advantagesm',\n",
       " 'v211',\n",
       " 'jail)',\n",
       " 'web1913',\n",
       " '-prefer',\n",
       " 'http//wwwfoolcom/masp?i=690063',\n",
       " 'glue',\n",
       " 'weird-ass',\n",
       " '(headercount_of_header)',\n",
       " 'ouspe1cfb2ch6tpbgf0rjdlztrofvyfuvam1xi6idhfnbcctx5oolfu2xbnysn+f0bq5cazmiadl',\n",
       " 'exmhwrapper',\n",
       " 'id8dbqe9anxzk9b4h5r0iuiraqieajsef+hfbypkhdm0l6e8q+a7yy/0paccdzxl',\n",
       " 'granulate',\n",
       " 'wfxc+1hvhd8t3cqzbboyeuk=',\n",
       " 'mdialog',\n",
       " 'xpilot',\n",
       " 'uhqhzcdc4ze4xpcylejuqpze1afy9escjsnwozqy/2naibembmdldjvwjwxxvzj7ttdlpurbiypg',\n",
       " '\\x1b$bg=i$ncm$hg8e$ncm$rhf3s$9$k$h\\x1b(bfaults\\x1b$b9`l\\\\$a}$($f$$$k0j30$o\\x1b(b',\n",
       " '\\x1b$b$+$o\\x1b(b',\n",
       " 'flocking',\n",
       " '--username=nobody',\n",
       " 'v=c3=a0',\n",
       " 'theoretic',\n",
       " 'arranging',\n",
       " 'down-',\n",
       " 'costume',\n",
       " 'bfaf6a400phes5imccexbmesbjamir9quw2uqfw2mpycwgskdf01o6acbcejymqranvb9vlvelnn',\n",
       " 'imaginative',\n",
       " 'systmes',\n",
       " 'mrjames',\n",
       " 'petting',\n",
       " 'graph=20',\n",
       " 'aaaaaaaargaaaaadhqaaaaaaaamaa4aiiayaaaaaamaaaaaaaabgaaaaabcfaaaaaaaaawahgagg',\n",
       " 'header%s%d',\n",
       " 'iako',\n",
       " 'resent',\n",
       " 'theologians',\n",
       " 'vandenberg',\n",
       " 'copy-protected',\n",
       " 'src/sys/nfs/nfs_socketc',\n",
       " 'mode=',\n",
       " 'eyeing',\n",
       " '0824',\n",
       " 'undergrad',\n",
       " 'yni+dqogicagicagifn0yxrlcy48yni+dqogicagicagidxicj4nciagicagicagv2ugyxjlign1',\n",
       " 'yiq1emwycjohgb1nczz8qbbsznbc6x1xrsxnoejjohu6wxljjxbbfiaqnjht3rsybezxhyzkjn2x',\n",
       " 'stockbroker',\n",
       " '\\x1b$b#8e$3$n9-9p$$4itmw$jj}$o$=$n;]$r\\x1b(b',\n",
       " 'mod_gzip_on',\n",
       " 'lapse',\n",
       " 'apxs',\n",
       " 'listservs',\n",
       " '/u2llz16foinelsdze6da7y/gphgtacjtv5tnbxxcnclg6whvutkne7lqsfagksjyi7ipwrmxfnr',\n",
       " 'http//wwwnewsisfreecom/refugees_in_britain/story/0276380501100html',\n",
       " 'velvet-rope',\n",
       " 'youalso',\n",
       " 'ighhcybizwvuihnjcmvlbmvkigfuzcbmawx0zxjlzcbiesbvdxigaw4gag91',\n",
       " 'bedrfnisse',\n",
       " 'b2ygb3rozxigzw1hawwgchjvdmlkzxjzihbszwfzzsb2axnpdcagdqoncmh0',\n",
       " '3113)',\n",
       " 'b2jhbcbbbhrpdhvkzqaaaaaeaaaahjhcsu0d8wtqcmludcbgbgfncwaaaakaaaaaaaaaaaea',\n",
       " 'scharbach',\n",
       " 'pctel',\n",
       " 'terrace',\n",
       " 'tomwhore@slacknet;',\n",
       " 'out-',\n",
       " 'zmzmzmyipjaymjbqbkhwos00nzhstfjknzczofnzbvqylteznxd6z3iynjc3',\n",
       " 'sow',\n",
       " 'tribute&#146;s=0d',\n",
       " 'entirety',\n",
       " 'gojstwfktt60l1m5va+s/wcvm2utii0y8ssaiib0srkuwwa0aml1sntyrxbogr4tqipdvl1t7cq1',\n",
       " 'colm',\n",
       " '/wa9lpxfubya3fl6xpmcrv86+woeblng3jafnoojv65m01dgvokctlszm6osfaf7utf9sddv',\n",
       " \"virgin's\",\n",
       " \"'width=130'\",\n",
       " 'smokage',\n",
       " 'pgp_autoencrypt;set',\n",
       " \"story's\",\n",
       " '=cc=d3=fd=a3=ac=bd=cc=ca=a6=d3=eb=bc=e6=d6=b0=bd=cc=ca=a6=b5=c4=be=ad=c0=fa=c8=',\n",
       " '/////w//d///8a////d/8p/w//d/////d///d/8a////8a///////8///8///8//////////////',\n",
       " 'http//zdnetcomcom/2100-1105-954903html',\n",
       " '²檺knog(1)',\n",
       " 'iieo',\n",
       " 'immutable',\n",
       " 'symqra8ee/kdeac0daz0qvkzeymzkwyt4f70m9jxrefvgn+qyvahqu38kc6t4nkuuubkti8utzg3',\n",
       " '655pm',\n",
       " 'http//wwwsuccessnetorg',\n",
       " 'http//memberstripodde/mani20/index1html/',\n",
       " 'sgvsccb3yw50zwquicbxzsbhcmugysaxncb5zwfyig9szcbmb3j0dw5liduw',\n",
       " '1432',\n",
       " 'tougher',\n",
       " 'archieve/2001/march',\n",
       " 'snd-mixer-oss',\n",
       " 'state_____________',\n",
       " 'gnometomes',\n",
       " 'ѵٰų',\n",
       " 'pc-310',\n",
       " 'http//wwwadreportingcom/dirphp?a=167673&p=138&w=text',\n",
       " '(0wned',\n",
       " '975',\n",
       " 'abso=',\n",
       " '5iombkkwsbckzge/tawbcqwlaicbcqjdn7bqd5upnumm5e5urozssf7ivvuzvj7zykstrimjztkq',\n",
       " 'actionable',\n",
       " 'http//boingboingnet/#85524596',\n",
       " 'fbi-sponsored',\n",
       " '449%',\n",
       " 'car[9]',\n",
       " 'itv)',\n",
       " 'aquestions-',\n",
       " 'biwhpijkhgiso8hswuahmuj4pbbicoy4lgaeqaihfkgczkmzmmahgeg7tv+ccdqoy5qpogjguqzg',\n",
       " 'ljr3yovj96lzzcb2ehtzj0i+jbftqyhm93ebczsabrhgukwqf14wf7wa8bnaeusk+gfbx+q8z33p',\n",
       " 'xml-aware',\n",
       " 'baby?',\n",
       " 'connections=29=2e=3c=2ffont=3e=3c=2fstrong=3e=3c=2ffont=3e',\n",
       " 'lc115',\n",
       " 'bkvujyuayu4owrlay20uzkoywgb0wknswwgyskgupcmqwcuoqxtszdk8/yiotui0avik7cnrjeov',\n",
       " 'pjxicj4nciagicagicagicagicagicagicagicagdqogicagica8zgl2igfs',\n",
       " '+46312',\n",
       " '-432%',\n",
       " 'http//wwwperlorg/tpc/2002/audio/lt-2/',\n",
       " 'raging)',\n",
       " 'soundtracks',\n",
       " 'djbg808wjjhapjxeufie9zjufzdfmrererfv8q/5oh2z+hun/crq0wuwgodobkwpa1wcaewryur1',\n",
       " '202rc2',\n",
       " '####[',\n",
       " 'spamassassin+razor2',\n",
       " 'profitably',\n",
       " 'cybhsuygzmlszsb3yxmgyxnzzw1ibgvkihdpdgggr0lgienvbnn0cnvjdglvbibtzxqgznjvbton',\n",
       " 'lawder',\n",
       " 'http//go21btletto/',\n",
       " 'use&nbsp=3b=3c=2fb=3e=3c=2ffont=3e=3c=2fp=3e',\n",
       " 'seven-stage',\n",
       " 'predsednickim',\n",
       " 'violators',\n",
       " 'pmfg',\n",
       " \"wan's\",\n",
       " 'vmailmgr',\n",
       " 'a3%b9%ac%a9%ba%f7%fd%f5%f4%8d%e8%a2%be%ae%ae%f1%ea%a2%b8%bf%b8%f6%e7%e5%bb=',\n",
       " '5l',\n",
       " 'krzysztof',\n",
       " 'edenfresno',\n",
       " '(messages',\n",
       " 'sidewalks',\n",
       " 'backwoods',\n",
       " 'b3ugd2lsbdxicj4nciagicagihjly2vpdmugysbmdwxsicqxldawmc4wmc4ulibpzib5b3ugchjv',\n",
       " '[10]',\n",
       " '866-903-1700',\n",
       " 'hipodermicas',\n",
       " '(tools)',\n",
       " 'harlan>',\n",
       " 'behavoirs',\n",
       " 'erling',\n",
       " 'ighhzcb0bybzyxk6iccnvghhbmtzihrvihroaxmgchjvzml0ywjszsbvchbv',\n",
       " '$3500',\n",
       " '-operating',\n",
       " '190',\n",
       " '0238',\n",
       " 'timberlake',\n",
       " '6uinschkzwggjod5hjcg8uvrikqhfgqg8umyax6kni9ie7zjfqjci5g8/wwaqgnocefs74ieaxut',\n",
       " 'remove@linkitsoftwarecom',\n",
       " 'avantage',\n",
       " '------=_nextpart_000_00d1_42b32c7db8655d52',\n",
       " 'earthlink',\n",
       " 'adamson',\n",
       " '452540',\n",
       " 'http//jmasonorg/software/sitescooper/',\n",
       " 'little)',\n",
       " 'ocr',\n",
       " '947',\n",
       " '--==_exmh_31119591p',\n",
       " '=only',\n",
       " 'yuqgv1qadk6ozxvaamrqhlduaayuqgv1qadk6ozxvacjv0dtxlenhkx5xvdk6odxwspd4m4ejqtn',\n",
       " 'lzwybvrg9b3saxwal0gitmusdnbf0qx+/b0xc3axj7ijefmxzsfxugbrapoime6w2gl1nwizsqx+',\n",
       " \"`athalon-redhat'\",\n",
       " 'accompanied',\n",
       " 'ggckohm4fdnrbgqhhsbqiwbh/wcqeyeksh5gkzqymagqkjc7ivarigmiceegnwbtb3bbc1ai8gcy',\n",
       " 'tpj',\n",
       " 'there)',\n",
       " '$0=2e025',\n",
       " 'tastebuds',\n",
       " \"'510p'\",\n",
       " 'belonging',\n",
       " 'two-plus',\n",
       " 'fagnan',\n",
       " 'barrie',\n",
       " 'patton',\n",
       " 'weight=',\n",
       " 'pf',\n",
       " \"governor's\",\n",
       " 'ch-ams',\n",
       " 'quxjvfkgb2ygvehfsvigbgl2zxmudqoncijusu1jtkcgsvmgrvzfulluselorycfdqpjifdb',\n",
       " 'http//wwwlockergnomecom/issues/daily/20020710html',\n",
       " \"canada's\",\n",
       " 'ouw+hsigkuwawdgnubdkucxmjgscrdthmxzmifod06hg0jypurwj5dhhqpwfmi9eyukiycjns8uj',\n",
       " 'ed5750%5year',\n",
       " '0gbvll2jf@solvospbsu',\n",
       " 'pay-tv',\n",
       " 'product/concept/prototype',\n",
       " 'counterforce',\n",
       " 'night?',\n",
       " '/home/yyyy/lib/spamtrap/spammbox',\n",
       " 'informa',\n",
       " 'merlin',\n",
       " 'font-familyarial;',\n",
       " 'be-all',\n",
       " 'hammersleycom[3]_)',\n",
       " 'zemlin',\n",
       " 'icagicagicagica8dgqgd2lkdgg9ijq0osigagvpz2h0psixmteiihzhbglnbj0ibwlkzgxliibh',\n",
       " 'http//wwwlaxpresscom/50sites/fatfantasieshtml',\n",
       " 'statue',\n",
       " 'http//quizivillagecom/astrology/tests/mrrightquizhtm',\n",
       " '$680',\n",
       " 'urgical',\n",
       " 'electile',\n",
       " '\\\\<&%g96)u9e]i;w-t87)ts@v+v$p/@i4<f%c93l@8s',\n",
       " 'http//wwwcarrefournet',\n",
       " 'time&nbsp;',\n",
       " 'http//wwwsweatyfrogcom/index2html',\n",
       " 'innovate',\n",
       " 'odcbhweexheyuapcuogqxnxe4mazazdkoancrcqrgngjwnccac64hb8qmahn7sktakjfbnrwbwt/',\n",
       " 'editors;',\n",
       " 'lled',\n",
       " 'germ',\n",
       " 'vo3edhvxty39wo91pza4vg2+kjuhope9/i1sqlsifgmlisf+akolvufkvcufdsvmqluqrvicjtcz',\n",
       " 'wildlife',\n",
       " '2002-05-11t164100z',\n",
       " '/wcrqren9wgjwmdpcp8a/j7vkco4yiwx3b+ruhvi3t8ixuoa9mtysnpxtbhg3w+/jcic7s0f',\n",
       " 'ul5sxkr8r5haik6yfn9rbw25lur3mn4h4x4c9+qn4wbvfs0lt+3n0lqlixtepbpkhujtommykpf5',\n",
       " 'wallaa',\n",
       " 'zcbvdxqgb25sesa1ldawmcbllw1hawxzigvhy2guiexldcdzigfsc28gyxnz',\n",
       " '>back',\n",
       " '41132',\n",
       " '8k',\n",
       " 'trailing',\n",
       " 'q-3r-f(^72;/&p34s&)c/et(;/&p34s',\n",
       " 'exclusivos',\n",
       " '13240',\n",
       " 'urological',\n",
       " 'one=2e',\n",
       " 'http//wwwinformationweekcom/story/iwk20020723s0005',\n",
       " 'gregor_)',\n",
       " '--==_exmh_1405404058p--',\n",
       " 'cbi/equifax',\n",
       " 'c9mwvdakq4mgk1+nu6alv45lykm5cp6elgjrbm2nnk2yql1m4fxwmvoenojcg+t9j57dsxflmv06',\n",
       " '=t+t4',\n",
       " 'faking',\n",
       " 'verbal',\n",
       " 'test2',\n",
       " 'zxmgew91ihrocm91z2gncnrozsbzdgvwcyb0bybtywtligegy29wesbvzib5',\n",
       " 'colophonapologia',\n",
       " 'ovu4oc2eaunhfobhdm1iocyhs5giwgtfmaf0ckgasqkbbcehvjyziagcatkfbpjzf4bowqvdzgjp',\n",
       " '------=_nextpart_000_007f_01bdf6c7fabac1b0--',\n",
       " 'http//wwwabcnewsgocom/wire/world/ap20020807_922html',\n",
       " 'noah',\n",
       " '(be',\n",
       " 'leere',\n",
       " 'subdivided',\n",
       " 'illegable',\n",
       " 'humidifier',\n",
       " 'http//developerapplecom/internet/macosx/perlhtml',\n",
       " 'find=3c=2fnobr=3e=3c=2ffont=3e=3c=2fp=3e',\n",
       " '(case',\n",
       " 'polish-italian',\n",
       " 'cameo',\n",
       " 'seom',\n",
       " '(oracle',\n",
       " '120419273257',\n",
       " 'geforce2',\n",
       " '=c4=91=e1=bb=99i',\n",
       " 'http//newslettermediaunspuncom/index000021074cfm',\n",
       " 'promiscous',\n",
       " 'seldom',\n",
       " '//d///////d/////d///////////dw/waadw///w//d/8p///w///////wap/w/w//d////w///w',\n",
       " 'dell?',\n",
       " \"'lula'\",\n",
       " 'talents',\n",
       " 'logfiles',\n",
       " 'yarns',\n",
       " 'nantucket',\n",
       " 'http//wwwtheregistercouk/content/4/26291html',\n",
       " 'homepagesthirty',\n",
       " '[086]',\n",
       " 'much-better',\n",
       " 'lmdpzib3awr0ad05ocbozwlnahq9nzagym9yzgvypta+pc9hpjwvdgq+phrkpjxwpjxppjxi',\n",
       " 'amalgamation',\n",
       " '0490',\n",
       " '=b5=bd=b5=d7=d6=d0=b9=famba=d1=a7=d0=a3=b5=c4=c5=e0=d1=f8=c4=bf=b1=ea=d3=',\n",
       " 'nonblocking',\n",
       " 'flukladobkmiafdf+fenqierfcecquas8af0/iqbi+sbqh+xcfppovu4hu4qeq6s8ur0razxlcy+',\n",
       " '>camera',\n",
       " '/)',\n",
       " 'testers)',\n",
       " 'applyleads',\n",
       " 'ijhqjzevaxhaijcxbeth1q3sl8eam83+jqelfbq7recuhzbefn33psxk7fobbejpariawhqu43oe',\n",
       " 'aneurisms',\n",
       " 'vhost',\n",
       " 'caf6',\n",
       " 'nzoqcorck0vcea/punba9m2fzxqcm8y/yyuuktw7iigx9zh1w8xrlnpbt6er6oywc/a5qjrua3ly',\n",
       " '&#8220;converting',\n",
       " '==================================================',\n",
       " '(suse',\n",
       " '370ppm',\n",
       " 'qclebbihjpaimyh+hkqiey7iyeiusiwxll36lq5ijbkxz8njyapwjcymuqzzbtu1nsivsiij',\n",
       " 'sbubhvjfwpcqpr2i5/n5amvwdy8kh/me4kz9ov4apeeswtbsohmx0z3dyxarjtea8rtb08dcoiwl',\n",
       " 'ü',\n",
       " 'force)',\n",
       " 'greener',\n",
       " 'c4129x',\n",
       " \"fisherman's\",\n",
       " 'angelcyk',\n",
       " 'http//wwwtheregistercouk/content/3/26214html',\n",
       " '(otherwise',\n",
       " 'wail',\n",
       " 'energetic',\n",
       " '$1;',\n",
       " 'mfyxlnduiddsbe9vnc0/albkmelyskvw1js8ycqq2yynazj4k+8r80jxxvo5dztxpc87v5qlwiv2',\n",
       " 'http//wwwtakemetothesavingscom/termlife/',\n",
       " 'aining',\n",
       " '>>good',\n",
       " 'reporting-mta',\n",
       " 'degenerate',\n",
       " 'profis=20',\n",
       " '&#8220;the',\n",
       " 'dg8gcm90yxrligzpbgvzcgl3aglszsaoqf8pihskcqlsb2nhbcgkeckgpsakys4nlicuc2hp',\n",
       " '_+',\n",
       " '(ftp|http|rsync)',\n",
       " 'businesses/yellow',\n",
       " \"leitl's\",\n",
       " 'descend',\n",
       " 'hilfreich',\n",
       " '2002-10-03t215932-0800',\n",
       " 'no4',\n",
       " 'ak7sqlznzuwubklouori3wjyck1bx8g8m9cm7b9bzc3srnd9rl0kow1ezseesloxjgebwscanva0',\n",
       " '-wash',\n",
       " 'cannibilizes',\n",
       " 'c8061x',\n",
       " 'filemapc843',\n",
       " 'pki',\n",
       " 'fsl',\n",
       " 'kevinindymediaorg',\n",
       " 'act?',\n",
       " 'vertreter',\n",
       " '(aahihlnoo)',\n",
       " 'icagicagicagicagpgrpdibhbglnbj0iq2vudgvyij48zm9udcbjb2xvcj0i',\n",
       " 'similiar',\n",
       " 'folder-hooks',\n",
       " 'tokenize_body(self',\n",
       " 'clear;',\n",
       " '(needs',\n",
       " 'rdqhzogdknhprnjscnmtbfvhhr6d1sh1nbn0hqkpqadle3sdb5wvp7o/cuu+p1pviwvrtsulndyj',\n",
       " 'world=',\n",
       " '&nbsp;kleptomania',\n",
       " 'ameri=3c----=3eca',\n",
       " 'dramatize',\n",
       " '/m/////////8j//i//////////////////////////9//////3f/////////////////////////',\n",
       " 'lmi4xmoj9pu1h2mzaii90tm9neu/oys4p+zbqjwdpnacveaf35geh7icgwiigeceiwihq8aebsde',\n",
       " 'af6_decorecpp360',\n",
       " 'crumb',\n",
       " \">nothing's\",\n",
       " \"tatum's\",\n",
       " 'uzooaivlexsuld1qkrrgznafya1qmepk2ssuak4ypi+jzk2bcwsq0iyuzfqsmf3i7hrqw6xqakpn',\n",
       " 'expedites',\n",
       " 'u14ewy/kfq8fmltjovmnjkby2u+u/v4/mc523enlg0asmn9jjjtjlpao8tq5ua0xx08yj1tcpekz',\n",
       " 'romkabila@presidencycom',\n",
       " 'hu_power10@yahoocom',\n",
       " \"o'connor\",\n",
       " 'mickeletto',\n",
       " 'bash/sed/',\n",
       " 'ambiente',\n",
       " 'capitalize}',\n",
       " 'found)',\n",
       " 'rinehart',\n",
       " '88156--another',\n",
       " 'nuzkiao4areoayfyajpynjo4tyrzqqgyatmwxzreaalgtzubrhisx/xjmit0sjimyvvuyrl0p5se',\n",
       " '78-foot',\n",
       " 'todo',\n",
       " 'excruciating',\n",
       " 'gumming',\n",
       " '1861',\n",
       " 'wikipediacom',\n",
       " 'tevcruvet05ur0vuuklquevet0zgqllfwfbftlnjvkvit1rftcxqqvlqse9orufore1pqklmruni',\n",
       " 'brick-and-mortar',\n",
       " 'http//wwwglobalscapecom/download/cuteftpproasp',\n",
       " '2/11/02',\n",
       " 'fur',\n",
       " 'platforms)',\n",
       " 'isabelle',\n",
       " '-monty',\n",
       " 'ungodly',\n",
       " 'unicode/utf-8',\n",
       " 'found[1]',\n",
       " 'infobytel;',\n",
       " 'c#',\n",
       " 'qfjvkoiyriwgemgnlcjg8oqtsrvacse/x5exdxcgfwzyigt9wy5lh4gbfjg3ruiwngwkqtpgnrjl',\n",
       " '$21&nbsp;&nbsp;&nbsp;&nbs=',\n",
       " 'wwwbgeie',\n",
       " 'tir',\n",
       " 'hovels',\n",
       " '(mlm)',\n",
       " 'bizopp',\n",
       " 'debates',\n",
       " 'shakespeare',\n",
       " \"'http1d'\",\n",
       " '[rosario',\n",
       " 'smiling&#8221;',\n",
       " 'operas',\n",
       " 'experienced=',\n",
       " \"zdnet's\",\n",
       " 'vexatious',\n",
       " 'c3rzig9mihrob3vzyw5kcyagb2ygb3rozxigzw1hawwgchjvdmlkzxjzihbs',\n",
       " '/url/url',\n",
       " 'aqbcovfvbs71kqeeogbakfu+ceackczwgaeffmbkougdgqnlmky02udmdgciamdjoddhly52xpov',\n",
       " 'songwriters',\n",
       " 'dangerreadme)',\n",
       " 'fujifilm',\n",
       " 'retribution',\n",
       " 'http//searchsecuritytechtargetcom/originalcontent/0289142sid14_gci81161400html',\n",
       " 'snd_major=116',\n",
       " '7by',\n",
       " 'meyssan',\n",
       " \"semester's\",\n",
       " '(short',\n",
       " '=3d$1000',\n",
       " 'sunnetwork',\n",
       " 'irhpo0+orzcjfcn+1h2+7kwxgj72xpxxaal2ydklljbzeiml49o+x/x4nd0psx2q6ii2d9zmymda',\n",
       " ...]"
      ]
     },
     "execution_count": 55,
     "metadata": {},
     "output_type": "execute_result"
    }
   ],
   "source": [
    "unique_words = spam_wordcount.keys() ^ ham_wordcount.keys()\n",
    "list(unique_words)"
   ]
  },
  {
   "cell_type": "code",
   "execution_count": 56,
   "metadata": {},
   "outputs": [
    {
     "ename": "error",
     "evalue": "unbalanced parenthesis at position 10",
     "output_type": "error",
     "traceback": [
      "\u001b[0;31m---------------------------------------------------------------------------\u001b[0m",
      "\u001b[0;31merror\u001b[0m                                     Traceback (most recent call last)",
      "\u001b[0;32m<ipython-input-56-c0be0649ecef>\u001b[0m in \u001b[0;36m<module>\u001b[0;34m()\u001b[0m\n\u001b[1;32m      9\u001b[0m \u001b[0;34m\u001b[0m\u001b[0m\n\u001b[1;32m     10\u001b[0m \u001b[0mword_features\u001b[0m \u001b[0;34m=\u001b[0m \u001b[0mlist\u001b[0m\u001b[0;34m(\u001b[0m\u001b[0munique_words\u001b[0m\u001b[0;34m)\u001b[0m\u001b[0;34m\u001b[0m\u001b[0m\n\u001b[0;32m---> 11\u001b[0;31m \u001b[0mPhi_train\u001b[0m \u001b[0;34m=\u001b[0m \u001b[0mwords_in_texts\u001b[0m\u001b[0;34m(\u001b[0m\u001b[0mword_features\u001b[0m\u001b[0;34m,\u001b[0m \u001b[0mtrain\u001b[0m\u001b[0;34m[\u001b[0m\u001b[0;34m'email'\u001b[0m\u001b[0;34m]\u001b[0m\u001b[0;34m)\u001b[0m\u001b[0;34m\u001b[0m\u001b[0m\n\u001b[0m\u001b[1;32m     12\u001b[0m \u001b[0mY_train\u001b[0m \u001b[0;34m=\u001b[0m \u001b[0mtrain\u001b[0m\u001b[0;34m[\u001b[0m\u001b[0;34m'spam'\u001b[0m\u001b[0;34m]\u001b[0m\u001b[0;34m\u001b[0m\u001b[0m\n\u001b[1;32m     13\u001b[0m \u001b[0;34m\u001b[0m\u001b[0m\n",
      "\u001b[0;32m<ipython-input-7-31940de32aaa>\u001b[0m in \u001b[0;36mwords_in_texts\u001b[0;34m(words, texts)\u001b[0m\n\u001b[1;32m      9\u001b[0m         \u001b[0mnumber\u001b[0m \u001b[0mof\u001b[0m \u001b[0mtexts\u001b[0m \u001b[0;32mand\u001b[0m \u001b[0mp\u001b[0m \u001b[0;32mis\u001b[0m \u001b[0mthe\u001b[0m \u001b[0mnumber\u001b[0m \u001b[0mof\u001b[0m \u001b[0mwords\u001b[0m\u001b[0;34m.\u001b[0m\u001b[0;34m\u001b[0m\u001b[0m\n\u001b[1;32m     10\u001b[0m     '''\n\u001b[0;32m---> 11\u001b[0;31m     \u001b[0mindicator_array\u001b[0m \u001b[0;34m=\u001b[0m \u001b[0mnp\u001b[0m\u001b[0;34m.\u001b[0m\u001b[0marray\u001b[0m\u001b[0;34m(\u001b[0m\u001b[0;34m[\u001b[0m\u001b[0mtexts\u001b[0m\u001b[0;34m.\u001b[0m\u001b[0mstr\u001b[0m\u001b[0;34m.\u001b[0m\u001b[0mcontains\u001b[0m\u001b[0;34m(\u001b[0m\u001b[0mword\u001b[0m\u001b[0;34m)\u001b[0m \u001b[0;34m*\u001b[0m \u001b[0;36m1\u001b[0m \u001b[0;32mfor\u001b[0m \u001b[0mword\u001b[0m \u001b[0;32min\u001b[0m \u001b[0mwords\u001b[0m\u001b[0;34m]\u001b[0m\u001b[0;34m)\u001b[0m\u001b[0;34m.\u001b[0m\u001b[0mtranspose\u001b[0m\u001b[0;34m(\u001b[0m\u001b[0;34m)\u001b[0m\u001b[0;34m\u001b[0m\u001b[0m\n\u001b[0m\u001b[1;32m     12\u001b[0m     \u001b[0;31m#print(indicator_array)\u001b[0m\u001b[0;34m\u001b[0m\u001b[0;34m\u001b[0m\u001b[0m\n\u001b[1;32m     13\u001b[0m     \u001b[0;31m# YOUR CODE HERE\u001b[0m\u001b[0;34m\u001b[0m\u001b[0;34m\u001b[0m\u001b[0m\n",
      "\u001b[0;32m<ipython-input-7-31940de32aaa>\u001b[0m in \u001b[0;36m<listcomp>\u001b[0;34m(.0)\u001b[0m\n\u001b[1;32m      9\u001b[0m         \u001b[0mnumber\u001b[0m \u001b[0mof\u001b[0m \u001b[0mtexts\u001b[0m \u001b[0;32mand\u001b[0m \u001b[0mp\u001b[0m \u001b[0;32mis\u001b[0m \u001b[0mthe\u001b[0m \u001b[0mnumber\u001b[0m \u001b[0mof\u001b[0m \u001b[0mwords\u001b[0m\u001b[0;34m.\u001b[0m\u001b[0;34m\u001b[0m\u001b[0m\n\u001b[1;32m     10\u001b[0m     '''\n\u001b[0;32m---> 11\u001b[0;31m     \u001b[0mindicator_array\u001b[0m \u001b[0;34m=\u001b[0m \u001b[0mnp\u001b[0m\u001b[0;34m.\u001b[0m\u001b[0marray\u001b[0m\u001b[0;34m(\u001b[0m\u001b[0;34m[\u001b[0m\u001b[0mtexts\u001b[0m\u001b[0;34m.\u001b[0m\u001b[0mstr\u001b[0m\u001b[0;34m.\u001b[0m\u001b[0mcontains\u001b[0m\u001b[0;34m(\u001b[0m\u001b[0mword\u001b[0m\u001b[0;34m)\u001b[0m \u001b[0;34m*\u001b[0m \u001b[0;36m1\u001b[0m \u001b[0;32mfor\u001b[0m \u001b[0mword\u001b[0m \u001b[0;32min\u001b[0m \u001b[0mwords\u001b[0m\u001b[0;34m]\u001b[0m\u001b[0;34m)\u001b[0m\u001b[0;34m.\u001b[0m\u001b[0mtranspose\u001b[0m\u001b[0;34m(\u001b[0m\u001b[0;34m)\u001b[0m\u001b[0;34m\u001b[0m\u001b[0m\n\u001b[0m\u001b[1;32m     12\u001b[0m     \u001b[0;31m#print(indicator_array)\u001b[0m\u001b[0;34m\u001b[0m\u001b[0;34m\u001b[0m\u001b[0m\n\u001b[1;32m     13\u001b[0m     \u001b[0;31m# YOUR CODE HERE\u001b[0m\u001b[0;34m\u001b[0m\u001b[0;34m\u001b[0m\u001b[0m\n",
      "\u001b[0;32m/srv/conda/envs/data100/lib/python3.6/site-packages/pandas/core/strings.py\u001b[0m in \u001b[0;36mcontains\u001b[0;34m(self, pat, case, flags, na, regex)\u001b[0m\n\u001b[1;32m   1565\u001b[0m     \u001b[0;32mdef\u001b[0m \u001b[0mcontains\u001b[0m\u001b[0;34m(\u001b[0m\u001b[0mself\u001b[0m\u001b[0;34m,\u001b[0m \u001b[0mpat\u001b[0m\u001b[0;34m,\u001b[0m \u001b[0mcase\u001b[0m\u001b[0;34m=\u001b[0m\u001b[0;32mTrue\u001b[0m\u001b[0;34m,\u001b[0m \u001b[0mflags\u001b[0m\u001b[0;34m=\u001b[0m\u001b[0;36m0\u001b[0m\u001b[0;34m,\u001b[0m \u001b[0mna\u001b[0m\u001b[0;34m=\u001b[0m\u001b[0mnp\u001b[0m\u001b[0;34m.\u001b[0m\u001b[0mnan\u001b[0m\u001b[0;34m,\u001b[0m \u001b[0mregex\u001b[0m\u001b[0;34m=\u001b[0m\u001b[0;32mTrue\u001b[0m\u001b[0;34m)\u001b[0m\u001b[0;34m:\u001b[0m\u001b[0;34m\u001b[0m\u001b[0m\n\u001b[1;32m   1566\u001b[0m         result = str_contains(self._data, pat, case=case, flags=flags, na=na,\n\u001b[0;32m-> 1567\u001b[0;31m                               regex=regex)\n\u001b[0m\u001b[1;32m   1568\u001b[0m         \u001b[0;32mreturn\u001b[0m \u001b[0mself\u001b[0m\u001b[0;34m.\u001b[0m\u001b[0m_wrap_result\u001b[0m\u001b[0;34m(\u001b[0m\u001b[0mresult\u001b[0m\u001b[0;34m)\u001b[0m\u001b[0;34m\u001b[0m\u001b[0m\n\u001b[1;32m   1569\u001b[0m \u001b[0;34m\u001b[0m\u001b[0m\n",
      "\u001b[0;32m/srv/conda/envs/data100/lib/python3.6/site-packages/pandas/core/strings.py\u001b[0m in \u001b[0;36mstr_contains\u001b[0;34m(arr, pat, case, flags, na, regex)\u001b[0m\n\u001b[1;32m    247\u001b[0m             \u001b[0mflags\u001b[0m \u001b[0;34m|=\u001b[0m \u001b[0mre\u001b[0m\u001b[0;34m.\u001b[0m\u001b[0mIGNORECASE\u001b[0m\u001b[0;34m\u001b[0m\u001b[0m\n\u001b[1;32m    248\u001b[0m \u001b[0;34m\u001b[0m\u001b[0m\n\u001b[0;32m--> 249\u001b[0;31m         \u001b[0mregex\u001b[0m \u001b[0;34m=\u001b[0m \u001b[0mre\u001b[0m\u001b[0;34m.\u001b[0m\u001b[0mcompile\u001b[0m\u001b[0;34m(\u001b[0m\u001b[0mpat\u001b[0m\u001b[0;34m,\u001b[0m \u001b[0mflags\u001b[0m\u001b[0;34m=\u001b[0m\u001b[0mflags\u001b[0m\u001b[0;34m)\u001b[0m\u001b[0;34m\u001b[0m\u001b[0m\n\u001b[0m\u001b[1;32m    250\u001b[0m \u001b[0;34m\u001b[0m\u001b[0m\n\u001b[1;32m    251\u001b[0m         \u001b[0;32mif\u001b[0m \u001b[0mregex\u001b[0m\u001b[0;34m.\u001b[0m\u001b[0mgroups\u001b[0m \u001b[0;34m>\u001b[0m \u001b[0;36m0\u001b[0m\u001b[0;34m:\u001b[0m\u001b[0;34m\u001b[0m\u001b[0m\n",
      "\u001b[0;32m/srv/conda/envs/data100/lib/python3.6/re.py\u001b[0m in \u001b[0;36mcompile\u001b[0;34m(pattern, flags)\u001b[0m\n\u001b[1;32m    231\u001b[0m \u001b[0;32mdef\u001b[0m \u001b[0mcompile\u001b[0m\u001b[0;34m(\u001b[0m\u001b[0mpattern\u001b[0m\u001b[0;34m,\u001b[0m \u001b[0mflags\u001b[0m\u001b[0;34m=\u001b[0m\u001b[0;36m0\u001b[0m\u001b[0;34m)\u001b[0m\u001b[0;34m:\u001b[0m\u001b[0;34m\u001b[0m\u001b[0m\n\u001b[1;32m    232\u001b[0m     \u001b[0;34m\"Compile a regular expression pattern, returning a pattern object.\"\u001b[0m\u001b[0;34m\u001b[0m\u001b[0m\n\u001b[0;32m--> 233\u001b[0;31m     \u001b[0;32mreturn\u001b[0m \u001b[0m_compile\u001b[0m\u001b[0;34m(\u001b[0m\u001b[0mpattern\u001b[0m\u001b[0;34m,\u001b[0m \u001b[0mflags\u001b[0m\u001b[0;34m)\u001b[0m\u001b[0;34m\u001b[0m\u001b[0m\n\u001b[0m\u001b[1;32m    234\u001b[0m \u001b[0;34m\u001b[0m\u001b[0m\n\u001b[1;32m    235\u001b[0m \u001b[0;32mdef\u001b[0m \u001b[0mpurge\u001b[0m\u001b[0;34m(\u001b[0m\u001b[0;34m)\u001b[0m\u001b[0;34m:\u001b[0m\u001b[0;34m\u001b[0m\u001b[0m\n",
      "\u001b[0;32m/srv/conda/envs/data100/lib/python3.6/re.py\u001b[0m in \u001b[0;36m_compile\u001b[0;34m(pattern, flags)\u001b[0m\n\u001b[1;32m    299\u001b[0m     \u001b[0;32mif\u001b[0m \u001b[0;32mnot\u001b[0m \u001b[0msre_compile\u001b[0m\u001b[0;34m.\u001b[0m\u001b[0misstring\u001b[0m\u001b[0;34m(\u001b[0m\u001b[0mpattern\u001b[0m\u001b[0;34m)\u001b[0m\u001b[0;34m:\u001b[0m\u001b[0;34m\u001b[0m\u001b[0m\n\u001b[1;32m    300\u001b[0m         \u001b[0;32mraise\u001b[0m \u001b[0mTypeError\u001b[0m\u001b[0;34m(\u001b[0m\u001b[0;34m\"first argument must be string or compiled pattern\"\u001b[0m\u001b[0;34m)\u001b[0m\u001b[0;34m\u001b[0m\u001b[0m\n\u001b[0;32m--> 301\u001b[0;31m     \u001b[0mp\u001b[0m \u001b[0;34m=\u001b[0m \u001b[0msre_compile\u001b[0m\u001b[0;34m.\u001b[0m\u001b[0mcompile\u001b[0m\u001b[0;34m(\u001b[0m\u001b[0mpattern\u001b[0m\u001b[0;34m,\u001b[0m \u001b[0mflags\u001b[0m\u001b[0;34m)\u001b[0m\u001b[0;34m\u001b[0m\u001b[0m\n\u001b[0m\u001b[1;32m    302\u001b[0m     \u001b[0;32mif\u001b[0m \u001b[0;32mnot\u001b[0m \u001b[0;34m(\u001b[0m\u001b[0mflags\u001b[0m \u001b[0;34m&\u001b[0m \u001b[0mDEBUG\u001b[0m\u001b[0;34m)\u001b[0m\u001b[0;34m:\u001b[0m\u001b[0;34m\u001b[0m\u001b[0m\n\u001b[1;32m    303\u001b[0m         \u001b[0;32mif\u001b[0m \u001b[0mlen\u001b[0m\u001b[0;34m(\u001b[0m\u001b[0m_cache\u001b[0m\u001b[0;34m)\u001b[0m \u001b[0;34m>=\u001b[0m \u001b[0m_MAXCACHE\u001b[0m\u001b[0;34m:\u001b[0m\u001b[0;34m\u001b[0m\u001b[0m\n",
      "\u001b[0;32m/srv/conda/envs/data100/lib/python3.6/sre_compile.py\u001b[0m in \u001b[0;36mcompile\u001b[0;34m(p, flags)\u001b[0m\n\u001b[1;32m    560\u001b[0m     \u001b[0;32mif\u001b[0m \u001b[0misstring\u001b[0m\u001b[0;34m(\u001b[0m\u001b[0mp\u001b[0m\u001b[0;34m)\u001b[0m\u001b[0;34m:\u001b[0m\u001b[0;34m\u001b[0m\u001b[0m\n\u001b[1;32m    561\u001b[0m         \u001b[0mpattern\u001b[0m \u001b[0;34m=\u001b[0m \u001b[0mp\u001b[0m\u001b[0;34m\u001b[0m\u001b[0m\n\u001b[0;32m--> 562\u001b[0;31m         \u001b[0mp\u001b[0m \u001b[0;34m=\u001b[0m \u001b[0msre_parse\u001b[0m\u001b[0;34m.\u001b[0m\u001b[0mparse\u001b[0m\u001b[0;34m(\u001b[0m\u001b[0mp\u001b[0m\u001b[0;34m,\u001b[0m \u001b[0mflags\u001b[0m\u001b[0;34m)\u001b[0m\u001b[0;34m\u001b[0m\u001b[0m\n\u001b[0m\u001b[1;32m    563\u001b[0m     \u001b[0;32melse\u001b[0m\u001b[0;34m:\u001b[0m\u001b[0;34m\u001b[0m\u001b[0m\n\u001b[1;32m    564\u001b[0m         \u001b[0mpattern\u001b[0m \u001b[0;34m=\u001b[0m \u001b[0;32mNone\u001b[0m\u001b[0;34m\u001b[0m\u001b[0m\n",
      "\u001b[0;32m/srv/conda/envs/data100/lib/python3.6/sre_parse.py\u001b[0m in \u001b[0;36mparse\u001b[0;34m(str, flags, pattern)\u001b[0m\n\u001b[1;32m    867\u001b[0m     \u001b[0;32mif\u001b[0m \u001b[0msource\u001b[0m\u001b[0;34m.\u001b[0m\u001b[0mnext\u001b[0m \u001b[0;32mis\u001b[0m \u001b[0;32mnot\u001b[0m \u001b[0;32mNone\u001b[0m\u001b[0;34m:\u001b[0m\u001b[0;34m\u001b[0m\u001b[0m\n\u001b[1;32m    868\u001b[0m         \u001b[0;32massert\u001b[0m \u001b[0msource\u001b[0m\u001b[0;34m.\u001b[0m\u001b[0mnext\u001b[0m \u001b[0;34m==\u001b[0m \u001b[0;34m\")\"\u001b[0m\u001b[0;34m\u001b[0m\u001b[0m\n\u001b[0;32m--> 869\u001b[0;31m         \u001b[0;32mraise\u001b[0m \u001b[0msource\u001b[0m\u001b[0;34m.\u001b[0m\u001b[0merror\u001b[0m\u001b[0;34m(\u001b[0m\u001b[0;34m\"unbalanced parenthesis\"\u001b[0m\u001b[0;34m)\u001b[0m\u001b[0;34m\u001b[0m\u001b[0m\n\u001b[0m\u001b[1;32m    870\u001b[0m \u001b[0;34m\u001b[0m\u001b[0m\n\u001b[1;32m    871\u001b[0m     \u001b[0;32mif\u001b[0m \u001b[0mflags\u001b[0m \u001b[0;34m&\u001b[0m \u001b[0mSRE_FLAG_DEBUG\u001b[0m\u001b[0;34m:\u001b[0m\u001b[0;34m\u001b[0m\u001b[0m\n",
      "\u001b[0;31merror\u001b[0m: unbalanced parenthesis at position 10"
     ]
    }
   ],
   "source": [
    "word_features = ['will', 'email', 'free', 'click', 'please', 'money', 'business', 'list', 'one','information',\n",
    "                  'receive', 'e-mail', 'people', 'address', 'name', 'time', 'new', 'send', 'make', 'order', 'report',\n",
    "                 'message', 'want', 'home','removed', 'may', 'program', 'de', 'company',\n",
    "                 'government', 'form', 'offer', 'credit', 'best', 'life', 'use', 'need', 'million', 'content-type',\n",
    "                 'site', 'go', 'help', 'software', 'call', 'work', 'today', 'wish', 'phone', 'web','first', 'remove',\n",
    "                 'marketing', 'mail', 'service', 'within', 'grants', 'state', 'reply', 'sent', 'day', 'every', 'insurance',\n",
    "                 'online', 'take', 'per', 'special', 'price', 'much', 'see', 'received', 'year', 'made',\n",
    "                 'contact', 'even', 'number', 'addresses', 'available', 'cash', 'orders', 'know', 'future']\n",
    "\n",
    "#word_features = list(unique_words)\n",
    "Phi_train = words_in_texts(word_features, train['email'])\n",
    "Y_train = train['spam']\n",
    "\n",
    "from sklearn.linear_model import LogisticRegression as lm\n",
    "model = lm()\n",
    "model.fit(Phi_train, Y_train)\n",
    "training_accuracy = model.score(Phi_train, Y_train)\n",
    "\n",
    "training_accuracy\n"
   ]
  },
  {
   "cell_type": "code",
   "execution_count": 448,
   "metadata": {},
   "outputs": [
    {
     "data": {
      "text/plain": [
       "0.92095808383233535"
      ]
     },
     "execution_count": 448,
     "metadata": {},
     "output_type": "execute_result"
    }
   ],
   "source": [
    "Phi_test = words_in_texts(word_features, test['email'])\n",
    "Y_test = test['spam']\n",
    "\n",
    "test_accuracy = model.score(Phi_test, Y_test)\n",
    "test_accuracy\n"
   ]
  },
  {
   "cell_type": "markdown",
   "metadata": {
    "deletable": false,
    "editable": false,
    "nbgrader": {
     "cell_type": "markdown",
     "checksum": "55580b1682a53b3d3bab8e3d6b928973",
     "grade": false,
     "grade_id": "q7",
     "locked": true,
     "schema_version": 2,
     "solution": false
    }
   },
   "source": [
    "# Question 7 (Feature/Model Selection Process)\n",
    "\n",
    "In this following cell, describe the process of improving your model. You should use at least 2-3 sentences each to address the follow questions:\n",
    "\n",
    "1. How did you find better features for your model?\n",
    "2. What did you try that worked / didn't work?\n",
    "3. What was surprising in your search for good features?"
   ]
  },
  {
   "cell_type": "markdown",
   "metadata": {
    "deletable": false,
    "nbgrader": {
     "cell_type": "markdown",
     "checksum": "939e6a5a273ced9801a7c510aac0cde4",
     "grade": true,
     "grade_id": "q7-written",
     "locked": false,
     "points": 6,
     "schema_version": 2,
     "solution": true
    },
    "tags": [
     "student",
     "written",
     "q_feature"
    ]
   },
   "source": [
    "1. I found better features for my model by finding the most \n",
    "2. "
   ]
  },
  {
   "cell_type": "markdown",
   "metadata": {
    "deletable": false,
    "editable": false,
    "nbgrader": {
     "cell_type": "markdown",
     "checksum": "60b1230b3da1ce9160009cccef25dd8d",
     "grade": false,
     "grade_id": "q8",
     "locked": true,
     "schema_version": 2,
     "solution": false
    }
   },
   "source": [
    "# Question 8 (EDA)\n",
    "\n",
    "In the two cells below, show a visualization that you used to select features for your model. Include both\n",
    "\n",
    "1. A plot showing something meaningful about the data that helped you during feature / model selection.\n",
    "2. 2-3 sentences describing what you plotted and what its implications are for your features.\n",
    "\n",
    "Feel to create as many plots as you want in your process of feature selection, but select one for the cells below.\n",
    "\n",
    "**You should not show us a visualization just like in question 3.** Specifically, don't show us a bar chart of proportions, or a one-dimensional class conditional density plot. Any other plot is acceptable, as long as it comes with thoughtful commentary. Here are some ideas:\n",
    "\n",
    "1. Consider the correlation between multiple features (look up correlation plots and `sns.heatmap`). \n",
    "1. Try to show redundancy in a group of features (e.g. `body` and `html` might co-occur relatively frequently, or you might be able to design a feature that captures all html tags and compare it to these). \n",
    "1. Use a word-cloud or another visualization tool to characterize the most common spam words.\n",
    "1. Visually depict whether spam emails tend to be wordier (in some sense) than ham emails."
   ]
  },
  {
   "cell_type": "code",
   "execution_count": 415,
   "metadata": {},
   "outputs": [
    {
     "name": "stdout",
     "output_type": "stream",
     "text": [
      "Requirement already satisfied: WordCloud in /srv/conda/envs/data100/lib/python3.6/site-packages\n",
      "Requirement already satisfied: pillow in /srv/conda/envs/data100/lib/python3.6/site-packages (from WordCloud)\n",
      "Requirement already satisfied: matplotlib in /srv/conda/envs/data100/lib/python3.6/site-packages (from WordCloud)\n",
      "Requirement already satisfied: numpy>=1.6.1 in /srv/conda/envs/data100/lib/python3.6/site-packages (from WordCloud)\n",
      "Requirement already satisfied: six>=1.10 in /srv/conda/envs/data100/lib/python3.6/site-packages (from matplotlib->WordCloud)\n",
      "Requirement already satisfied: python-dateutil>=2.0 in /srv/conda/envs/data100/lib/python3.6/site-packages (from matplotlib->WordCloud)\n",
      "Requirement already satisfied: pytz in /srv/conda/envs/data100/lib/python3.6/site-packages (from matplotlib->WordCloud)\n",
      "Requirement already satisfied: cycler>=0.10 in /srv/conda/envs/data100/lib/python3.6/site-packages (from matplotlib->WordCloud)\n",
      "Requirement already satisfied: pyparsing!=2.0.4,!=2.1.2,!=2.1.6,>=2.0.1 in /srv/conda/envs/data100/lib/python3.6/site-packages (from matplotlib->WordCloud)\n",
      "\u001b[33mYou are using pip version 9.0.1, however version 10.0.1 is available.\n",
      "You should consider upgrading via the 'pip install --upgrade pip' command.\u001b[0m\n"
     ]
    }
   ],
   "source": [
    "!pip install WordCloud"
   ]
  },
  {
   "cell_type": "code",
   "execution_count": 417,
   "metadata": {
    "deletable": false,
    "nbgrader": {
     "cell_type": "code",
     "checksum": "94f71f52acc1ddc1af721de03dddc841",
     "grade": true,
     "grade_id": "q8-eda",
     "locked": false,
     "points": 3,
     "schema_version": 2,
     "solution": true
    },
    "tags": [
     "student",
     "written",
     "q_eda1"
    ]
   },
   "outputs": [
    {
     "data": {
      "image/png": "[encoded data removed]",
      "text/plain": [
       "<matplotlib.figure.Figure at 0x7f207c276fd0>"
      ]
     },
     "metadata": {},
     "output_type": "display_data"
    },
    {
     "data": {
      "image/png": "[encoded data removed]",
      "text/plain": [
       "<matplotlib.figure.Figure at 0x7f2085376da0>"
      ]
     },
     "metadata": {},
     "output_type": "display_data"
    }
   ],
   "source": [
    "# YOUR CODE HERE\n",
    "from wordcloud import WordCloud, STOPWORDS\n",
    "stopwords = set(STOPWORDS)\n",
    "\n",
    "def show_wordcloud(data, title = None):\n",
    "    wordcloud = WordCloud(\n",
    "        background_color='white',\n",
    "        stopwords=stopwords,\n",
    "        max_words=200,\n",
    "        max_font_size=40, \n",
    "        scale=3,\n",
    "        random_state=1 # chosen at random by flipping a coin; it was heads\n",
    "    ).generate(str(data))\n",
    "\n",
    "    fig = plt.figure(1, figsize=(12, 12))\n",
    "    plt.axis('off')\n",
    "    if title: \n",
    "        fig.suptitle(title, fontsize=20)\n",
    "        fig.subplots_adjust(top=2.3)\n",
    "\n",
    "    plt.imshow(wordcloud)\n",
    "    plt.show()\n",
    "\n",
    "show_wordcloud(spam_text)\n",
    "show_wordcloud(ham_text)\n",
    "#raise NotImplementedError()"
   ]
  },
  {
   "cell_type": "markdown",
   "metadata": {
    "deletable": false,
    "nbgrader": {
     "cell_type": "markdown",
     "checksum": "6d76d0efe11b5d997378ac902d04f7c1",
     "grade": true,
     "grade_id": "q8-commentary",
     "locked": false,
     "points": 3,
     "schema_version": 2,
     "solution": true
    }
   },
   "source": [
    "I plotted a wordcloud to show the most common words appearing in spam emails."
   ]
  },
  {
   "cell_type": "markdown",
   "metadata": {
    "deletable": false,
    "editable": false,
    "nbgrader": {
     "cell_type": "markdown",
     "checksum": "99200fdbaff3f814a5c7685c862989d9",
     "grade": false,
     "grade_id": "q9",
     "locked": true,
     "schema_version": 2,
     "solution": false
    }
   },
   "source": [
    "# Question 9 (Making a Precision-Recall Curve)\n",
    "\n",
    "We can trade off between precision and recall. In most cases we won't be able to get both perfect precision (i.e. no false positives) and recall (i.e. no false negatives), so we have to compromise. For example, in the case of cancer screenings, false negatives are comparatively worse than false positives — a false negative means that a patient might not discover a disease until it's too late to treat, while a false positive means that a patient will probably have to take another screening.\n",
    "\n",
    "Recall that logistic regression calculates the probability that an example belongs to a certain class. Then, to classify an example we say that an email is spam if our classifier gives it $\\ge 0.5$ probability of being spam. However, *we can adjust that cutoff*: we can say that an email is spam only if our classifier gives it $\\ge 0.7$ probability of being spam, for example. This is how we can trade off false positives and false negatives.\n",
    "\n",
    "The precision-recall curve shows this trade off for each possible cutoff probability. In the cell below, [plot a precision-recall curve](http://scikit-learn.org/stable/auto_examples/model_selection/plot_precision_recall.html#plot-the-precision-recall-curve) for your final classifier (the one you use to make predictions for Kaggle)."
   ]
  },
  {
   "cell_type": "code",
   "execution_count": 461,
   "metadata": {
    "deletable": false,
    "nbgrader": {
     "cell_type": "code",
     "checksum": "8aed6cd26a59c471f66756ebb5e8bc51",
     "grade": true,
     "grade_id": "q9-roc-curve",
     "locked": false,
     "points": 3,
     "schema_version": 2,
     "solution": true
    },
    "tags": [
     "student",
     "written",
     "q_roc"
    ]
   },
   "outputs": [
    {
     "data": {
      "text/plain": [
       "Text(0.5,1,'2-class Precision-Recall curve')"
      ]
     },
     "execution_count": 461,
     "metadata": {},
     "output_type": "execute_result"
    },
    {
     "data": {
      "image/png": "[encoded data removed]",
      "text/plain": [
       "<matplotlib.figure.Figure at 0x7f206f872dd8>"
      ]
     },
     "metadata": {},
     "output_type": "display_data"
    }
   ],
   "source": [
    "from sklearn.metrics import precision_recall_curve\n",
    "\n",
    "# Note that you'll want to use the .predict_proba(...) method for your classifier\n",
    "# instead of .predict(...) so you get probabilities, not classes\n",
    "Y_test = test['spam']\n",
    "y_score = model.predict_proba(Phi_test)[:, 1]\n",
    "precision, recall, _ = precision_recall_curve(Y_test, y_score)\n",
    "\n",
    "plt.step(recall, precision, color='b', alpha=0.2,\n",
    "         where='post')\n",
    "plt.fill_between(recall, precision, step='post', alpha=0.2,\n",
    "                 color='b')\n",
    "\n",
    "plt.xlabel('Recall')\n",
    "plt.ylabel('Precision')\n",
    "plt.ylim([0.0, 1.05])\n",
    "plt.xlim([0.0, 1.0])\n",
    "plt.title('2-class Precision-Recall curve')\n",
    "# YOUR CODE HERE\n",
    "#raise NotImplementedError()"
   ]
  },
  {
   "cell_type": "markdown",
   "metadata": {
    "deletable": false,
    "editable": false,
    "nbgrader": {
     "cell_type": "markdown",
     "checksum": "6f241f96a5f0b08ae0392d96660d109d",
     "grade": false,
     "grade_id": "q10",
     "locked": true,
     "schema_version": 2,
     "solution": false
    }
   },
   "source": [
    "# Question 10: Submitting to Kaggle\n",
    "\n",
    "The following code will write your predictions on the evaluation dataset to a CSV, which you can submit to Kaggle. You may need to modify it to suit your needs.\n",
    "\n",
    "Save your predictions in a 1-dimensional array called `evaluation_predictions`. *Even if you are not submitting to Kaggle, please make sure you've saved your predictions to `evaluation_predictions` as this is how your grade for this part will be determined.*\n",
    "\n",
    "Remember that if you've performed transformations or featurization on the training data, you must also perform the same transformations on the evaluation data in order to make predictions. For example, if you've created features for the words \"drug\" and \"money\" on the training data, you must also extract the same features in order to use scikit-learn's `.predict(...)` method.\n",
    "\n",
    "You should submit your CSV files to https://www.kaggle.com/t/39fae66747b14fd48fe0984f2e4f16ac"
   ]
  },
  {
   "cell_type": "code",
   "execution_count": 418,
   "metadata": {
    "deletable": false,
    "nbgrader": {
     "cell_type": "code",
     "checksum": "7a2abb910f7ef354666d7e39daed7454",
     "grade": false,
     "grade_id": "q10-answer",
     "locked": false,
     "schema_version": 2,
     "solution": true
    }
   },
   "outputs": [
    {
     "data": {
      "text/plain": [
       "array([0, 1, 1, 0, 0, 0, 1, 0, 0, 0, 0, 0, 0, 0, 0, 0, 1, 0, 0, 0, 0, 1, 0,\n",
       "       0, 0, 0, 0, 1, 1, 0, 0, 0, 0, 1, 0, 0, 0, 0, 0, 0, 0, 0, 0, 0, 0, 0,\n",
       "       0, 0, 1, 0, 0, 0, 0, 0, 0, 0, 0, 0, 0, 1, 1, 0, 1, 1, 0, 0, 0, 0, 1,\n",
       "       0, 0, 0, 0, 0, 1, 1, 0, 0, 0, 1, 0, 1, 0, 0, 0, 1, 1, 0, 0, 0, 0, 0,\n",
       "       0, 0, 1, 1, 0, 1, 0, 1, 0, 0, 0, 0, 0, 0, 0, 0, 0, 0, 0, 0, 0, 0, 1,\n",
       "       0, 1, 0, 1, 1, 0, 0, 0, 0, 0, 0, 0, 0, 0, 0, 0, 0, 0, 0, 0, 1, 0, 1,\n",
       "       0, 0, 1, 0, 0, 0, 0, 0, 0, 0, 0, 0, 0, 0, 0, 0, 1, 0, 0, 0, 1, 0, 1,\n",
       "       0, 1, 0, 0, 1, 0, 1, 0, 0, 0, 0, 0, 1, 0, 0, 0, 0, 0, 0, 1, 0, 0, 0,\n",
       "       1, 0, 1, 0, 0, 0, 1, 0, 0, 0, 1, 0, 0, 1, 0, 0, 0, 0, 1, 0, 0, 0, 0,\n",
       "       0, 0, 0, 0, 0, 0, 0, 1, 1, 1, 0, 1, 0, 0, 1, 0, 0, 1, 0, 0, 0, 0, 1,\n",
       "       0, 0, 0, 0, 0, 0, 0, 0, 1, 0, 0, 0, 1, 1, 0, 0, 0, 0, 0, 1, 0, 0, 0,\n",
       "       1, 0, 1, 0, 1, 0, 1, 0, 0, 0, 1, 1, 0, 0, 0, 0, 0, 0, 0, 0, 0, 0, 1,\n",
       "       1, 1, 0, 0, 0, 0, 0, 1, 0, 0, 0, 1, 0, 0, 0, 0, 0, 0, 1, 0, 0, 1, 0,\n",
       "       1, 1, 1, 0, 0, 0, 0, 0, 0, 1, 0, 0, 0, 0, 0, 1, 0, 0, 0, 0, 0, 0, 0,\n",
       "       1, 0, 0, 1, 0, 0, 1, 0, 0, 1, 0, 0, 1, 0, 0, 0, 0, 1, 0, 0, 0, 0, 0,\n",
       "       0, 1, 0, 0, 0, 1, 0, 0, 0, 0, 0, 0, 1, 1, 0, 0, 0, 0, 0, 0, 0, 0, 0,\n",
       "       0, 0, 1, 1, 0, 0, 0, 1, 0, 0, 1, 0, 1, 0, 0, 0, 1, 0, 0, 1, 1, 0, 1,\n",
       "       0, 0, 1, 0, 0, 1, 1, 0, 0, 0, 1, 1, 0, 0, 0, 0, 0, 1, 0, 0, 0, 0, 0,\n",
       "       0, 1, 0, 0, 1, 0, 0, 0, 1, 0, 0, 1, 0, 0, 0, 1, 0, 1, 1, 0, 1, 1, 1,\n",
       "       1, 0, 0, 1, 0, 1, 0, 1, 0, 0, 0, 0, 0, 0, 0, 0, 0, 0, 0, 0, 0, 1, 0,\n",
       "       0, 0, 0, 0, 1, 0, 0, 0, 0, 0, 1, 0, 0, 0, 0, 0, 0, 1, 0, 0, 0, 1, 1,\n",
       "       0, 0, 0, 0, 0, 0, 1, 0, 0, 0, 0, 1, 0, 0, 1, 0, 0, 0, 1, 0, 0, 1, 0,\n",
       "       0, 0, 0, 1, 0, 0, 0, 0, 0, 0, 0, 1, 0, 0, 1, 1, 0, 0, 0, 0, 0, 0, 1,\n",
       "       1, 0, 1, 1, 0, 0, 1, 0, 0, 0, 0, 0, 0, 0, 0, 1, 0, 0, 0, 0, 0, 0, 0,\n",
       "       0, 0, 0, 1, 0, 0, 1, 1, 0, 0, 0, 0, 0, 0, 0, 1, 0, 0, 0, 0, 0, 1, 0,\n",
       "       0, 0, 0, 0, 1, 0, 0, 0, 0, 0, 0, 0, 0, 0, 0, 0, 0, 0, 0, 0, 0, 1, 0,\n",
       "       0, 0, 0, 1, 0, 0, 0, 0, 0, 0, 0, 0, 0, 0, 0, 1, 0, 0, 0, 0, 1, 0, 0,\n",
       "       1, 1, 0, 0, 0, 0, 1, 0, 0, 0, 0, 1, 0, 0, 1, 0, 1, 0, 0, 0, 1, 0, 1,\n",
       "       0, 1, 0, 0, 0, 0, 0, 0, 0, 0, 0, 0, 0, 0, 0, 0, 0, 0, 0, 0, 0, 0, 0,\n",
       "       0, 0, 1, 0, 1, 0, 1, 0, 0, 1, 1, 0, 0, 0, 0, 0, 0, 1, 1, 1, 1, 0, 0,\n",
       "       0, 1, 0, 0, 0, 1, 0, 0, 0, 0, 0, 0, 0, 0, 0, 0, 0, 1, 0, 1, 0, 0, 0,\n",
       "       0, 0, 0, 1, 0, 1, 0, 0, 0, 0, 1, 1, 1, 0, 0, 1, 1, 0, 1, 0, 0, 0, 0,\n",
       "       1, 0, 0, 0, 0, 0, 1, 0, 0, 0, 0, 0, 0, 0, 0, 0, 0, 1, 0, 0, 0, 0, 0,\n",
       "       0, 0, 1, 0, 1, 0, 0, 0, 0, 0, 0, 0, 0, 0, 0, 1, 0, 0, 0, 0, 0, 1, 0,\n",
       "       0, 0, 0, 0, 0, 0, 0, 1, 0, 0, 0, 0, 1, 0, 0, 0, 1, 0, 0, 1, 0, 1, 0,\n",
       "       0, 1, 0, 0, 1, 0, 0, 0, 1, 0, 0, 1, 0, 0, 0, 0, 0, 0, 0, 0, 0, 0, 0,\n",
       "       0, 1, 0, 0, 0, 0, 0, 0, 1, 0, 0, 0, 0, 0, 0, 0, 0, 1, 0, 0, 0, 0, 0,\n",
       "       0, 1, 1, 0, 0, 0, 0, 0, 0, 0, 0, 0, 0, 0, 0, 0, 0, 0, 0, 0, 0, 1, 0,\n",
       "       0, 0, 0, 0, 0, 0, 1, 0, 1, 0, 0, 0, 0, 0, 0, 1, 0, 1, 1, 0, 0, 1, 0,\n",
       "       1, 0, 1, 0, 1, 0, 0, 0, 0, 0, 0, 0, 0, 0, 0, 0, 0, 0, 0, 0, 1, 1, 0,\n",
       "       0, 1, 0, 1, 0, 0, 0, 1, 0, 1, 1, 0, 1, 0, 0, 0, 1, 0, 0, 0, 0, 0, 0,\n",
       "       0, 0, 0, 1, 0, 0, 0, 1, 0, 0, 0, 0, 1, 0, 1, 0, 0, 0, 1, 0, 0, 0, 0,\n",
       "       1, 0, 0, 0, 1, 0, 1, 0, 0, 1, 0, 1, 1, 0, 0, 0, 0, 0, 0, 0, 0, 0, 0,\n",
       "       0, 1, 0, 0, 0, 0, 0, 0, 0, 0, 1])"
      ]
     },
     "execution_count": 418,
     "metadata": {},
     "output_type": "execute_result"
    }
   ],
   "source": [
    "# CHANGE ME (Currently making random predictions)\n",
    "model = lm()\n",
    "Phi_train = words_in_texts(word_features, train['email'])\n",
    "Y_train = train['spam']\n",
    "model.fit(Phi_train, Y_train)\n",
    "Phi_eval = words_in_texts(word_features, evaluation['email'])\n",
    "evaluation_predictions = model.predict(Phi_eval)\n",
    "evaluation_predictions\n",
    "# YOUR CODE HERE\n",
    "#raise NotImplementedError()"
   ]
  },
  {
   "cell_type": "code",
   "execution_count": 419,
   "metadata": {
    "deletable": false,
    "editable": false,
    "nbgrader": {
     "cell_type": "code",
     "checksum": "5005948ef8f43a714dad71e48c71bb8a",
     "grade": true,
     "grade_id": "q10-tests",
     "locked": true,
     "points": 1,
     "schema_version": 2,
     "solution": false
    }
   },
   "outputs": [],
   "source": [
    "# must be ndarray of predictions\n",
    "assert isinstance(evaluation_predictions, np.ndarray) \n",
    "\n",
    "# must be binary labels (0 or 1) and not probabilities\n",
    "assert np.all((evaluation_predictions == 0) | (evaluation_predictions == 1))\n",
    "\n",
    "# must be the right number of predictions\n",
    "assert evaluation_predictions.shape == (1000, )"
   ]
  },
  {
   "cell_type": "code",
   "execution_count": 420,
   "metadata": {
    "deletable": false,
    "editable": false,
    "nbgrader": {
     "cell_type": "code",
     "checksum": "9dfffe9e2d4d757b84e8d3601b5e5dd9",
     "grade": true,
     "grade_id": "q10-hidden-tests",
     "locked": true,
     "points": 4,
     "schema_version": 2,
     "solution": false
    }
   },
   "outputs": [],
   "source": [
    "# Please do not modify this cell"
   ]
  },
  {
   "cell_type": "markdown",
   "metadata": {
    "deletable": false,
    "editable": false,
    "nbgrader": {
     "cell_type": "markdown",
     "checksum": "f08c87d79dbcfed4134d2f56fda5b1fa",
     "grade": false,
     "grade_id": "cell-d15e30e2a961277d",
     "locked": true,
     "schema_version": 2,
     "solution": false
    }
   },
   "source": [
    "The following saves a file to submit to Kaggle."
   ]
  },
  {
   "cell_type": "code",
   "execution_count": 421,
   "metadata": {},
   "outputs": [
    {
     "name": "stdout",
     "output_type": "stream",
     "text": [
      "Created a CSV file: submission_2018-04-30T04:01:59.csv.\n",
      "You may now upload this CSV file to Kaggle for scoring.\n"
     ]
    }
   ],
   "source": [
    "from datetime import datetime\n",
    "\n",
    "# Assuming that your predictions on the evaluation set are stored in a 1-dimensional array called\n",
    "# evaluation_predictions. Feel free to modify this cell as long you create a CSV in the right format.\n",
    "\n",
    "# must be ndarray of predictions\n",
    "assert isinstance(evaluation_predictions, np.ndarray) \n",
    "\n",
    "# must be binary labels (0 or 1) and not probabilities\n",
    "assert np.all((evaluation_predictions == 0) | (evaluation_predictions == 1))\n",
    "\n",
    "# must be the right number of predictions\n",
    "assert evaluation_predictions.shape == (1000, )\n",
    "\n",
    "# Construct and save the submission:\n",
    "submission_df = pd.DataFrame({\n",
    "    \"Id\": evaluation['id'], \n",
    "    \"Class\": evaluation_predictions,\n",
    "}, columns=['Id', 'Class'])\n",
    "timestamp = datetime.isoformat(datetime.now()).split(\".\")[0]\n",
    "submission_df.to_csv(\"submission_{}.csv\".format(timestamp), index=False)\n",
    "\n",
    "print('Created a CSV file: {}.'.format(\"submission_{}.csv\".format(timestamp)))\n",
    "print('You may now upload this CSV file to Kaggle for scoring.')"
   ]
  },
  {
   "cell_type": "code",
   "execution_count": null,
   "metadata": {},
   "outputs": [],
   "source": []
  }
 ],
 "metadata": {
  "kernelspec": {
   "display_name": "Python 3",
   "language": "python",
   "name": "python3"
  },
  "language_info": {
   "codemirror_mode": {
    "name": "ipython",
    "version": 3
   },
   "file_extension": ".py",
   "mimetype": "text/x-python",
   "name": "python",
   "nbconvert_exporter": "python",
   "pygments_lexer": "ipython3",
   "version": "3.6.4"
  }
 },
 "nbformat": 4,
 "nbformat_minor": 2
}
